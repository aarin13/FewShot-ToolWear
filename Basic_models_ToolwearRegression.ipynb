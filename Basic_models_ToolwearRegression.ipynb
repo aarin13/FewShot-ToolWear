{
 "cells": [
  {
   "cell_type": "code",
   "execution_count": 3,
   "metadata": {
    "id": "_PXwlXs9-12k"
   },
   "outputs": [],
   "source": [
    "import numpy as np\n",
    "import pandas as pd\n",
    "import matplotlib.pyplot as plt\n",
    "import seaborn as sns\n",
    "import sys"
   ]
  },
  {
   "cell_type": "code",
   "execution_count": 4,
   "metadata": {
    "id": "W9C7BV3AJKqg"
   },
   "outputs": [],
   "source": [
    "from sklearn import metrics"
   ]
  },
  {
   "cell_type": "code",
   "execution_count": 7,
   "metadata": {
    "colab": {
     "base_uri": "https://localhost:8080/"
    },
    "id": "y0i1AHVk3vQL",
    "outputId": "7d8a2cef-0de2-4a95-cf2f-d3f568a7da88"
   },
   "outputs": [
    {
     "name": "stdout",
     "output_type": "stream",
     "text": [
      "Requirement already satisfied: mlxtend in c:\\users\\hp\\anaconda3\\lib\\site-packages (0.21.0)\n",
      "Requirement already satisfied: setuptools in c:\\users\\hp\\anaconda3\\lib\\site-packages (from mlxtend) (52.0.0.post20210125)\n",
      "Requirement already satisfied: joblib>=0.13.2 in c:\\users\\hp\\anaconda3\\lib\\site-packages (from mlxtend) (1.2.0)\n",
      "Requirement already satisfied: pandas>=0.24.2 in c:\\users\\hp\\anaconda3\\lib\\site-packages (from mlxtend) (1.2.4)\n",
      "Requirement already satisfied: scipy>=1.2.1 in c:\\users\\hp\\anaconda3\\lib\\site-packages (from mlxtend) (1.6.2)\n",
      "Requirement already satisfied: scikit-learn>=1.0.2 in c:\\users\\hp\\anaconda3\\lib\\site-packages (from mlxtend) (1.2.2)\n",
      "Requirement already satisfied: matplotlib>=3.0.0 in c:\\users\\hp\\anaconda3\\lib\\site-packages (from mlxtend) (3.3.4)\n",
      "Requirement already satisfied: numpy>=1.16.2 in c:\\users\\hp\\anaconda3\\lib\\site-packages (from mlxtend) (1.20.1)\n",
      "Requirement already satisfied: pyparsing!=2.0.4,!=2.1.2,!=2.1.6,>=2.0.3 in c:\\users\\hp\\anaconda3\\lib\\site-packages (from matplotlib>=3.0.0->mlxtend) (2.4.7)\n",
      "Requirement already satisfied: python-dateutil>=2.1 in c:\\users\\hp\\anaconda3\\lib\\site-packages (from matplotlib>=3.0.0->mlxtend) (2.8.1)\n",
      "Requirement already satisfied: pillow>=6.2.0 in c:\\users\\hp\\anaconda3\\lib\\site-packages (from matplotlib>=3.0.0->mlxtend) (8.2.0)\n",
      "Requirement already satisfied: kiwisolver>=1.0.1 in c:\\users\\hp\\anaconda3\\lib\\site-packages (from matplotlib>=3.0.0->mlxtend) (1.3.1)\n",
      "Requirement already satisfied: cycler>=0.10 in c:\\users\\hp\\anaconda3\\lib\\site-packages (from matplotlib>=3.0.0->mlxtend) (0.10.0)\n",
      "Requirement already satisfied: pytz>=2017.3 in c:\\users\\hp\\anaconda3\\lib\\site-packages (from pandas>=0.24.2->mlxtend) (2021.1)\n",
      "Requirement already satisfied: threadpoolctl>=2.0.0 in c:\\users\\hp\\anaconda3\\lib\\site-packages (from scikit-learn>=1.0.2->mlxtend) (2.1.0)\n",
      "Requirement already satisfied: six in c:\\users\\hp\\anaconda3\\lib\\site-packages (from cycler>=0.10->matplotlib>=3.0.0->mlxtend) (1.15.0)\n"
     ]
    }
   ],
   "source": [
    "!pip install mlxtend"
   ]
  },
  {
   "cell_type": "code",
   "execution_count": 5,
   "metadata": {
    "id": "OQL-qmu43xha"
   },
   "outputs": [],
   "source": [
    "import joblib\n",
    "sys.modules['sklearn.externals.joblib'] = joblib"
   ]
  },
  {
   "cell_type": "code",
   "execution_count": 9,
   "metadata": {
    "id": "tHX2r1vw4BGw"
   },
   "outputs": [],
   "source": [
    "from mlxtend.feature_selection import SequentialFeatureSelector as SFS"
   ]
  },
  {
   "cell_type": "code",
   "execution_count": 10,
   "metadata": {
    "id": "yxKFdves_Fdj"
   },
   "outputs": [],
   "source": [
    "w1 = pd.read_csv(\"C:/Users/HP/Desktop/AI_miniProj/stat_W1.csv\")\n",
    "w2 = pd.read_csv(\"C:/Users/HP/Desktop/AI_miniProj/stat_W2.csv\")\n",
    "w3 = pd.read_csv(\"C:/Users/HP/Desktop/AI_miniProj/stat_W3.csv\")\n",
    "w4 = pd.read_csv(\"C:/Users/HP/Desktop/AI_miniProj/stat_W4.csv\")\n",
    "w5 = pd.read_csv(\"C:/Users/HP/Desktop/AI_miniProj/stat_W5.csv\")\n",
    "w6 = pd.read_csv(\"C:/Users/HP/Desktop/AI_miniProj/stat_W6.csv\")\n",
    "w7 = pd.read_csv(\"C:/Users/HP/Desktop/AI_miniProj/stat_W7.csv\")\n",
    "w8 = pd.read_csv(\"C:/Users/HP/Desktop/AI_miniProj/stat_W8.csv\")\n",
    "w9 = pd.read_csv(\"C:/Users/HP/Desktop/AI_miniProj/stat_W9.csv\")"
   ]
  },
  {
   "cell_type": "code",
   "execution_count": 11,
   "metadata": {
    "id": "ttEI5jDtVK31"
   },
   "outputs": [],
   "source": [
    "#datasets arranged in ascending order of size\n",
    "datasets = [w9, w5, w7, w3, w6, w2, w1, w4, w8]"
   ]
  },
  {
   "cell_type": "code",
   "execution_count": 12,
   "metadata": {
    "id": "Qvt71n88n1Yq"
   },
   "outputs": [],
   "source": [
    "for i in datasets:\n",
    "  i.dropna(axis = 0, inplace = True)\n",
    "  i.drop(\"Unnamed: 0\", axis = 1, inplace = True)"
   ]
  },
  {
   "cell_type": "code",
   "execution_count": 13,
   "metadata": {
    "id": "64jURAGLztch"
   },
   "outputs": [],
   "source": [
    "data = pd.DataFrame()\n",
    "for i in datasets:\n",
    "  data = pd.concat([data, i],ignore_index = True)"
   ]
  },
  {
   "cell_type": "code",
   "execution_count": 14,
   "metadata": {
    "colab": {
     "base_uri": "https://localhost:8080/",
     "height": 522
    },
    "id": "pzMo4bPm0njS",
    "outputId": "a1fdaa5b-3f78-49ac-be68-0c9cfc559874"
   },
   "outputs": [
    {
     "data": {
      "text/html": [
       "<div>\n",
       "<style scoped>\n",
       "    .dataframe tbody tr th:only-of-type {\n",
       "        vertical-align: middle;\n",
       "    }\n",
       "\n",
       "    .dataframe tbody tr th {\n",
       "        vertical-align: top;\n",
       "    }\n",
       "\n",
       "    .dataframe thead th {\n",
       "        text-align: right;\n",
       "    }\n",
       "</style>\n",
       "<table border=\"1\" class=\"dataframe\">\n",
       "  <thead>\n",
       "    <tr style=\"text-align: right;\">\n",
       "      <th></th>\n",
       "      <th>0_ECDF Percentile Count_0</th>\n",
       "      <th>0_ECDF Percentile Count_1</th>\n",
       "      <th>0_ECDF Percentile_0</th>\n",
       "      <th>0_ECDF Percentile_1</th>\n",
       "      <th>0_ECDF_0</th>\n",
       "      <th>0_ECDF_1</th>\n",
       "      <th>0_ECDF_2</th>\n",
       "      <th>0_ECDF_3</th>\n",
       "      <th>0_ECDF_4</th>\n",
       "      <th>0_ECDF_5</th>\n",
       "      <th>...</th>\n",
       "      <th>7_Mean</th>\n",
       "      <th>7_Mean absolute deviation</th>\n",
       "      <th>7_Median</th>\n",
       "      <th>7_Median absolute deviation</th>\n",
       "      <th>7_Min</th>\n",
       "      <th>7_Root mean square</th>\n",
       "      <th>7_Skewness</th>\n",
       "      <th>7_Standard deviation</th>\n",
       "      <th>7_Variance</th>\n",
       "      <th>Wear</th>\n",
       "    </tr>\n",
       "  </thead>\n",
       "  <tbody>\n",
       "    <tr>\n",
       "      <th>0</th>\n",
       "      <td>300.0</td>\n",
       "      <td>1200.0</td>\n",
       "      <td>-200.970</td>\n",
       "      <td>114.84</td>\n",
       "      <td>0.000667</td>\n",
       "      <td>0.001333</td>\n",
       "      <td>0.002</td>\n",
       "      <td>0.002667</td>\n",
       "      <td>0.003333</td>\n",
       "      <td>0.004</td>\n",
       "      <td>...</td>\n",
       "      <td>-0.786447</td>\n",
       "      <td>1.090869</td>\n",
       "      <td>-1.3824</td>\n",
       "      <td>0.4073</td>\n",
       "      <td>-2.0541</td>\n",
       "      <td>1.517567</td>\n",
       "      <td>0.943873</td>\n",
       "      <td>1.297886</td>\n",
       "      <td>1.684509</td>\n",
       "      <td>0.065</td>\n",
       "    </tr>\n",
       "    <tr>\n",
       "      <th>1</th>\n",
       "      <td>300.0</td>\n",
       "      <td>1200.0</td>\n",
       "      <td>-143.550</td>\n",
       "      <td>172.26</td>\n",
       "      <td>0.000667</td>\n",
       "      <td>0.001333</td>\n",
       "      <td>0.002</td>\n",
       "      <td>0.002667</td>\n",
       "      <td>0.003333</td>\n",
       "      <td>0.004</td>\n",
       "      <td>...</td>\n",
       "      <td>1.205540</td>\n",
       "      <td>0.509679</td>\n",
       "      <td>1.4864</td>\n",
       "      <td>0.2080</td>\n",
       "      <td>-0.0997</td>\n",
       "      <td>1.345519</td>\n",
       "      <td>-0.895774</td>\n",
       "      <td>0.597574</td>\n",
       "      <td>0.357095</td>\n",
       "      <td>0.065</td>\n",
       "    </tr>\n",
       "    <tr>\n",
       "      <th>2</th>\n",
       "      <td>300.0</td>\n",
       "      <td>1200.0</td>\n",
       "      <td>-114.840</td>\n",
       "      <td>200.97</td>\n",
       "      <td>0.000667</td>\n",
       "      <td>0.001333</td>\n",
       "      <td>0.002</td>\n",
       "      <td>0.002667</td>\n",
       "      <td>0.003333</td>\n",
       "      <td>0.004</td>\n",
       "      <td>...</td>\n",
       "      <td>-1.190222</td>\n",
       "      <td>0.621008</td>\n",
       "      <td>-1.4777</td>\n",
       "      <td>0.2080</td>\n",
       "      <td>-2.0454</td>\n",
       "      <td>1.499077</td>\n",
       "      <td>2.060872</td>\n",
       "      <td>0.911374</td>\n",
       "      <td>0.830602</td>\n",
       "      <td>0.065</td>\n",
       "    </tr>\n",
       "    <tr>\n",
       "      <th>3</th>\n",
       "      <td>300.0</td>\n",
       "      <td>1200.0</td>\n",
       "      <td>-100.480</td>\n",
       "      <td>229.68</td>\n",
       "      <td>0.000667</td>\n",
       "      <td>0.001333</td>\n",
       "      <td>0.002</td>\n",
       "      <td>0.002667</td>\n",
       "      <td>0.003333</td>\n",
       "      <td>0.004</td>\n",
       "      <td>...</td>\n",
       "      <td>0.654409</td>\n",
       "      <td>1.146077</td>\n",
       "      <td>1.4431</td>\n",
       "      <td>0.3380</td>\n",
       "      <td>-1.3694</td>\n",
       "      <td>1.399811</td>\n",
       "      <td>-0.666822</td>\n",
       "      <td>1.237425</td>\n",
       "      <td>1.531220</td>\n",
       "      <td>0.065</td>\n",
       "    </tr>\n",
       "    <tr>\n",
       "      <th>4</th>\n",
       "      <td>300.0</td>\n",
       "      <td>1200.0</td>\n",
       "      <td>-86.129</td>\n",
       "      <td>229.68</td>\n",
       "      <td>0.000667</td>\n",
       "      <td>0.001333</td>\n",
       "      <td>0.002</td>\n",
       "      <td>0.002667</td>\n",
       "      <td>0.003333</td>\n",
       "      <td>0.004</td>\n",
       "      <td>...</td>\n",
       "      <td>0.338624</td>\n",
       "      <td>1.101911</td>\n",
       "      <td>0.8190</td>\n",
       "      <td>0.2795</td>\n",
       "      <td>-1.9154</td>\n",
       "      <td>1.350247</td>\n",
       "      <td>-0.732292</td>\n",
       "      <td>1.307096</td>\n",
       "      <td>1.708500</td>\n",
       "      <td>0.065</td>\n",
       "    </tr>\n",
       "    <tr>\n",
       "      <th>...</th>\n",
       "      <td>...</td>\n",
       "      <td>...</td>\n",
       "      <td>...</td>\n",
       "      <td>...</td>\n",
       "      <td>...</td>\n",
       "      <td>...</td>\n",
       "      <td>...</td>\n",
       "      <td>...</td>\n",
       "      <td>...</td>\n",
       "      <td>...</td>\n",
       "      <td>...</td>\n",
       "      <td>...</td>\n",
       "      <td>...</td>\n",
       "      <td>...</td>\n",
       "      <td>...</td>\n",
       "      <td>...</td>\n",
       "      <td>...</td>\n",
       "      <td>...</td>\n",
       "      <td>...</td>\n",
       "      <td>...</td>\n",
       "      <td>...</td>\n",
       "    </tr>\n",
       "    <tr>\n",
       "      <th>5237</th>\n",
       "      <td>300.0</td>\n",
       "      <td>1200.0</td>\n",
       "      <td>-35.887</td>\n",
       "      <td>236.85</td>\n",
       "      <td>0.000667</td>\n",
       "      <td>0.001333</td>\n",
       "      <td>0.002</td>\n",
       "      <td>0.002667</td>\n",
       "      <td>0.003333</td>\n",
       "      <td>0.004</td>\n",
       "      <td>...</td>\n",
       "      <td>1.372066</td>\n",
       "      <td>0.367712</td>\n",
       "      <td>1.1310</td>\n",
       "      <td>0.0216</td>\n",
       "      <td>1.1007</td>\n",
       "      <td>1.449996</td>\n",
       "      <td>1.699431</td>\n",
       "      <td>0.468960</td>\n",
       "      <td>0.219924</td>\n",
       "      <td>0.245</td>\n",
       "    </tr>\n",
       "    <tr>\n",
       "      <th>5238</th>\n",
       "      <td>300.0</td>\n",
       "      <td>1200.0</td>\n",
       "      <td>-50.242</td>\n",
       "      <td>251.21</td>\n",
       "      <td>0.000667</td>\n",
       "      <td>0.001333</td>\n",
       "      <td>0.002</td>\n",
       "      <td>0.002667</td>\n",
       "      <td>0.003333</td>\n",
       "      <td>0.004</td>\n",
       "      <td>...</td>\n",
       "      <td>0.067732</td>\n",
       "      <td>1.327533</td>\n",
       "      <td>1.0877</td>\n",
       "      <td>0.2253</td>\n",
       "      <td>-1.7681</td>\n",
       "      <td>1.365924</td>\n",
       "      <td>-0.435119</td>\n",
       "      <td>1.364244</td>\n",
       "      <td>1.861161</td>\n",
       "      <td>0.245</td>\n",
       "    </tr>\n",
       "    <tr>\n",
       "      <th>5239</th>\n",
       "      <td>300.0</td>\n",
       "      <td>1200.0</td>\n",
       "      <td>-35.887</td>\n",
       "      <td>265.56</td>\n",
       "      <td>0.000667</td>\n",
       "      <td>0.001333</td>\n",
       "      <td>0.002</td>\n",
       "      <td>0.002667</td>\n",
       "      <td>0.003333</td>\n",
       "      <td>0.004</td>\n",
       "      <td>...</td>\n",
       "      <td>-1.591125</td>\n",
       "      <td>0.068263</td>\n",
       "      <td>-1.5687</td>\n",
       "      <td>0.0606</td>\n",
       "      <td>-1.7161</td>\n",
       "      <td>1.593035</td>\n",
       "      <td>0.170314</td>\n",
       "      <td>0.077998</td>\n",
       "      <td>0.006084</td>\n",
       "      <td>0.245</td>\n",
       "    </tr>\n",
       "    <tr>\n",
       "      <th>5240</th>\n",
       "      <td>300.0</td>\n",
       "      <td>1200.0</td>\n",
       "      <td>-35.887</td>\n",
       "      <td>265.56</td>\n",
       "      <td>0.000667</td>\n",
       "      <td>0.001333</td>\n",
       "      <td>0.002</td>\n",
       "      <td>0.002667</td>\n",
       "      <td>0.003333</td>\n",
       "      <td>0.004</td>\n",
       "      <td>...</td>\n",
       "      <td>-0.789850</td>\n",
       "      <td>0.501190</td>\n",
       "      <td>-0.8320</td>\n",
       "      <td>0.5590</td>\n",
       "      <td>-2.0584</td>\n",
       "      <td>0.986554</td>\n",
       "      <td>-0.733771</td>\n",
       "      <td>0.591122</td>\n",
       "      <td>0.349426</td>\n",
       "      <td>0.245</td>\n",
       "    </tr>\n",
       "    <tr>\n",
       "      <th>5241</th>\n",
       "      <td>300.0</td>\n",
       "      <td>1200.0</td>\n",
       "      <td>-35.887</td>\n",
       "      <td>265.56</td>\n",
       "      <td>0.000667</td>\n",
       "      <td>0.001333</td>\n",
       "      <td>0.002</td>\n",
       "      <td>0.002667</td>\n",
       "      <td>0.003333</td>\n",
       "      <td>0.004</td>\n",
       "      <td>...</td>\n",
       "      <td>0.442197</td>\n",
       "      <td>1.070332</td>\n",
       "      <td>-0.2947</td>\n",
       "      <td>0.6500</td>\n",
       "      <td>-0.9447</td>\n",
       "      <td>1.185396</td>\n",
       "      <td>0.148793</td>\n",
       "      <td>1.099830</td>\n",
       "      <td>1.209626</td>\n",
       "      <td>0.245</td>\n",
       "    </tr>\n",
       "  </tbody>\n",
       "</table>\n",
       "<p>5242 rows × 289 columns</p>\n",
       "</div>"
      ],
      "text/plain": [
       "      0_ECDF Percentile Count_0  0_ECDF Percentile Count_1  \\\n",
       "0                         300.0                     1200.0   \n",
       "1                         300.0                     1200.0   \n",
       "2                         300.0                     1200.0   \n",
       "3                         300.0                     1200.0   \n",
       "4                         300.0                     1200.0   \n",
       "...                         ...                        ...   \n",
       "5237                      300.0                     1200.0   \n",
       "5238                      300.0                     1200.0   \n",
       "5239                      300.0                     1200.0   \n",
       "5240                      300.0                     1200.0   \n",
       "5241                      300.0                     1200.0   \n",
       "\n",
       "      0_ECDF Percentile_0  0_ECDF Percentile_1  0_ECDF_0  0_ECDF_1  0_ECDF_2  \\\n",
       "0                -200.970               114.84  0.000667  0.001333     0.002   \n",
       "1                -143.550               172.26  0.000667  0.001333     0.002   \n",
       "2                -114.840               200.97  0.000667  0.001333     0.002   \n",
       "3                -100.480               229.68  0.000667  0.001333     0.002   \n",
       "4                 -86.129               229.68  0.000667  0.001333     0.002   \n",
       "...                   ...                  ...       ...       ...       ...   \n",
       "5237              -35.887               236.85  0.000667  0.001333     0.002   \n",
       "5238              -50.242               251.21  0.000667  0.001333     0.002   \n",
       "5239              -35.887               265.56  0.000667  0.001333     0.002   \n",
       "5240              -35.887               265.56  0.000667  0.001333     0.002   \n",
       "5241              -35.887               265.56  0.000667  0.001333     0.002   \n",
       "\n",
       "      0_ECDF_3  0_ECDF_4  0_ECDF_5  ...    7_Mean  7_Mean absolute deviation  \\\n",
       "0     0.002667  0.003333     0.004  ... -0.786447                   1.090869   \n",
       "1     0.002667  0.003333     0.004  ...  1.205540                   0.509679   \n",
       "2     0.002667  0.003333     0.004  ... -1.190222                   0.621008   \n",
       "3     0.002667  0.003333     0.004  ...  0.654409                   1.146077   \n",
       "4     0.002667  0.003333     0.004  ...  0.338624                   1.101911   \n",
       "...        ...       ...       ...  ...       ...                        ...   \n",
       "5237  0.002667  0.003333     0.004  ...  1.372066                   0.367712   \n",
       "5238  0.002667  0.003333     0.004  ...  0.067732                   1.327533   \n",
       "5239  0.002667  0.003333     0.004  ... -1.591125                   0.068263   \n",
       "5240  0.002667  0.003333     0.004  ... -0.789850                   0.501190   \n",
       "5241  0.002667  0.003333     0.004  ...  0.442197                   1.070332   \n",
       "\n",
       "      7_Median  7_Median absolute deviation   7_Min  7_Root mean square  \\\n",
       "0      -1.3824                       0.4073 -2.0541            1.517567   \n",
       "1       1.4864                       0.2080 -0.0997            1.345519   \n",
       "2      -1.4777                       0.2080 -2.0454            1.499077   \n",
       "3       1.4431                       0.3380 -1.3694            1.399811   \n",
       "4       0.8190                       0.2795 -1.9154            1.350247   \n",
       "...        ...                          ...     ...                 ...   \n",
       "5237    1.1310                       0.0216  1.1007            1.449996   \n",
       "5238    1.0877                       0.2253 -1.7681            1.365924   \n",
       "5239   -1.5687                       0.0606 -1.7161            1.593035   \n",
       "5240   -0.8320                       0.5590 -2.0584            0.986554   \n",
       "5241   -0.2947                       0.6500 -0.9447            1.185396   \n",
       "\n",
       "      7_Skewness  7_Standard deviation  7_Variance   Wear  \n",
       "0       0.943873              1.297886    1.684509  0.065  \n",
       "1      -0.895774              0.597574    0.357095  0.065  \n",
       "2       2.060872              0.911374    0.830602  0.065  \n",
       "3      -0.666822              1.237425    1.531220  0.065  \n",
       "4      -0.732292              1.307096    1.708500  0.065  \n",
       "...          ...                   ...         ...    ...  \n",
       "5237    1.699431              0.468960    0.219924  0.245  \n",
       "5238   -0.435119              1.364244    1.861161  0.245  \n",
       "5239    0.170314              0.077998    0.006084  0.245  \n",
       "5240   -0.733771              0.591122    0.349426  0.245  \n",
       "5241    0.148793              1.099830    1.209626  0.245  \n",
       "\n",
       "[5242 rows x 289 columns]"
      ]
     },
     "execution_count": 14,
     "metadata": {},
     "output_type": "execute_result"
    }
   ],
   "source": [
    "data"
   ]
  },
  {
   "cell_type": "code",
   "execution_count": 15,
   "metadata": {
    "id": "dcI6sLSEw0xc"
   },
   "outputs": [],
   "source": [
    "data.to_csv(\"stat_dataset.csv\")"
   ]
  },
  {
   "cell_type": "markdown",
   "metadata": {
    "id": "n8Pdgk99036M"
   },
   "source": [
    "#Feature Selection"
   ]
  },
  {
   "cell_type": "code",
   "execution_count": 16,
   "metadata": {
    "colab": {
     "base_uri": "https://localhost:8080/"
    },
    "id": "1tGkK0Pv06tu",
    "outputId": "8a3f0e9a-c8e1-402c-dd0d-af3e94df335b"
   },
   "outputs": [
    {
     "name": "stdout",
     "output_type": "stream",
     "text": [
      "Requirement already satisfied: feature_engine in c:\\users\\hp\\anaconda3\\lib\\site-packages (1.6.0)\n",
      "Requirement already satisfied: scipy>=1.4.1 in c:\\users\\hp\\anaconda3\\lib\\site-packages (from feature_engine) (1.6.2)\n",
      "Requirement already satisfied: pandas>=1.0.3 in c:\\users\\hp\\anaconda3\\lib\\site-packages (from feature_engine) (1.2.4)\n",
      "Requirement already satisfied: scikit-learn>=1.0.0 in c:\\users\\hp\\anaconda3\\lib\\site-packages (from feature_engine) (1.2.2)\n",
      "Requirement already satisfied: numpy>=1.18.2 in c:\\users\\hp\\anaconda3\\lib\\site-packages (from feature_engine) (1.20.1)\n",
      "Requirement already satisfied: statsmodels>=0.11.1 in c:\\users\\hp\\anaconda3\\lib\\site-packages (from feature_engine) (0.12.2)\n",
      "Requirement already satisfied: python-dateutil>=2.7.3 in c:\\users\\hp\\anaconda3\\lib\\site-packages (from pandas>=1.0.3->feature_engine) (2.8.1)\n",
      "Requirement already satisfied: pytz>=2017.3 in c:\\users\\hp\\anaconda3\\lib\\site-packages (from pandas>=1.0.3->feature_engine) (2021.1)\n",
      "Requirement already satisfied: threadpoolctl>=2.0.0 in c:\\users\\hp\\anaconda3\\lib\\site-packages (from scikit-learn>=1.0.0->feature_engine) (2.1.0)\n",
      "Requirement already satisfied: joblib>=1.1.1 in c:\\users\\hp\\anaconda3\\lib\\site-packages (from scikit-learn>=1.0.0->feature_engine) (1.2.0)\n",
      "Requirement already satisfied: patsy>=0.5 in c:\\users\\hp\\anaconda3\\lib\\site-packages (from statsmodels>=0.11.1->feature_engine) (0.5.1)\n",
      "Requirement already satisfied: six in c:\\users\\hp\\anaconda3\\lib\\site-packages (from patsy>=0.5->statsmodels>=0.11.1->feature_engine) (1.15.0)\n"
     ]
    }
   ],
   "source": [
    "!pip install feature_engine"
   ]
  },
  {
   "cell_type": "code",
   "execution_count": 18,
   "metadata": {
    "id": "qIwfyDb11Ib-"
   },
   "outputs": [],
   "source": [
    "from sklearn.model_selection import train_test_split\n",
    "\n",
    "from sklearn.ensemble import RandomForestRegressor\n",
    "from sklearn.metrics import roc_auc_score, r2_score\n",
    "from sklearn import metrics\n"
   ]
  },
  {
   "cell_type": "code",
   "execution_count": 19,
   "metadata": {
    "colab": {
     "base_uri": "https://localhost:8080/"
    },
    "id": "lk4nTqur1QIC",
    "outputId": "66dbbb27-0a0f-40f8-8b9c-c5f63bbe69cb"
   },
   "outputs": [
    {
     "data": {
      "text/plain": [
       "((3669, 288), (1573, 288))"
      ]
     },
     "execution_count": 19,
     "metadata": {},
     "output_type": "execute_result"
    }
   ],
   "source": [
    "X_train, X_test, y_train, y_test = train_test_split(\n",
    "    data.iloc[:,0:-1],\n",
    "    data.iloc[:,-1],\n",
    "    test_size=0.3,\n",
    "    random_state=0)\n",
    "X_train.shape, X_test.shape"
   ]
  },
  {
   "cell_type": "code",
   "execution_count": 20,
   "metadata": {
    "id": "KOkA0XRx10R8"
   },
   "outputs": [],
   "source": [
    "from sklearn.preprocessing import StandardScaler\n",
    "sc = StandardScaler()"
   ]
  },
  {
   "cell_type": "code",
   "execution_count": 21,
   "metadata": {
    "id": "9p9FeNQV1uP6"
   },
   "outputs": [],
   "source": [
    "X_train = sc.fit_transform(X_train)\n",
    "X_test = sc.transform(X_test)"
   ]
  },
  {
   "cell_type": "code",
   "execution_count": 22,
   "metadata": {
    "id": "JmcSITgV2-ke"
   },
   "outputs": [],
   "source": [
    "X_train = pd.DataFrame(data = X_train, columns = data.columns[:-1])\n",
    "X_test = pd.DataFrame(data = X_test, columns = data.columns[:-1])"
   ]
  },
  {
   "cell_type": "code",
   "execution_count": 23,
   "metadata": {
    "colab": {
     "base_uri": "https://localhost:8080/",
     "height": 696
    },
    "id": "NszHbWjI3WNj",
    "outputId": "6d093701-4f88-4b56-b9bd-5fcd3de88a95"
   },
   "outputs": [
    {
     "data": {
      "text/html": [
       "<div>\n",
       "<style scoped>\n",
       "    .dataframe tbody tr th:only-of-type {\n",
       "        vertical-align: middle;\n",
       "    }\n",
       "\n",
       "    .dataframe tbody tr th {\n",
       "        vertical-align: top;\n",
       "    }\n",
       "\n",
       "    .dataframe thead th {\n",
       "        text-align: right;\n",
       "    }\n",
       "</style>\n",
       "<table border=\"1\" class=\"dataframe\">\n",
       "  <thead>\n",
       "    <tr style=\"text-align: right;\">\n",
       "      <th></th>\n",
       "      <th>0_ECDF Percentile Count_0</th>\n",
       "      <th>0_ECDF Percentile Count_1</th>\n",
       "      <th>0_ECDF Percentile_0</th>\n",
       "      <th>0_ECDF Percentile_1</th>\n",
       "      <th>0_ECDF_0</th>\n",
       "      <th>0_ECDF_1</th>\n",
       "      <th>0_ECDF_2</th>\n",
       "      <th>0_ECDF_3</th>\n",
       "      <th>0_ECDF_4</th>\n",
       "      <th>0_ECDF_5</th>\n",
       "      <th>...</th>\n",
       "      <th>7_Max</th>\n",
       "      <th>7_Mean</th>\n",
       "      <th>7_Mean absolute deviation</th>\n",
       "      <th>7_Median</th>\n",
       "      <th>7_Median absolute deviation</th>\n",
       "      <th>7_Min</th>\n",
       "      <th>7_Root mean square</th>\n",
       "      <th>7_Skewness</th>\n",
       "      <th>7_Standard deviation</th>\n",
       "      <th>7_Variance</th>\n",
       "    </tr>\n",
       "  </thead>\n",
       "  <tbody>\n",
       "    <tr>\n",
       "      <th>0</th>\n",
       "      <td>0.016511</td>\n",
       "      <td>0.016511</td>\n",
       "      <td>0.191422</td>\n",
       "      <td>0.519888</td>\n",
       "      <td>-1.084202e-19</td>\n",
       "      <td>2.168404e-19</td>\n",
       "      <td>-8.673617e-19</td>\n",
       "      <td>4.336809e-19</td>\n",
       "      <td>4.336809e-19</td>\n",
       "      <td>-1.734723e-18</td>\n",
       "      <td>...</td>\n",
       "      <td>-0.305699</td>\n",
       "      <td>-1.369983</td>\n",
       "      <td>-1.011954</td>\n",
       "      <td>-1.131517</td>\n",
       "      <td>-0.969615</td>\n",
       "      <td>-2.284588</td>\n",
       "      <td>1.011258</td>\n",
       "      <td>0.613592</td>\n",
       "      <td>-0.354014</td>\n",
       "      <td>-0.547985</td>\n",
       "    </tr>\n",
       "    <tr>\n",
       "      <th>1</th>\n",
       "      <td>0.016511</td>\n",
       "      <td>0.016511</td>\n",
       "      <td>1.116250</td>\n",
       "      <td>1.029714</td>\n",
       "      <td>-1.084202e-19</td>\n",
       "      <td>2.168404e-19</td>\n",
       "      <td>-8.673617e-19</td>\n",
       "      <td>4.336809e-19</td>\n",
       "      <td>4.336809e-19</td>\n",
       "      <td>-1.734723e-18</td>\n",
       "      <td>...</td>\n",
       "      <td>0.529619</td>\n",
       "      <td>1.318120</td>\n",
       "      <td>-0.676444</td>\n",
       "      <td>1.266787</td>\n",
       "      <td>-0.724071</td>\n",
       "      <td>1.312078</td>\n",
       "      <td>0.760908</td>\n",
       "      <td>-1.288992</td>\n",
       "      <td>-0.545001</td>\n",
       "      <td>-0.684666</td>\n",
       "    </tr>\n",
       "    <tr>\n",
       "      <th>2</th>\n",
       "      <td>0.016511</td>\n",
       "      <td>0.016511</td>\n",
       "      <td>-0.836101</td>\n",
       "      <td>-0.499624</td>\n",
       "      <td>-1.084202e-19</td>\n",
       "      <td>2.168404e-19</td>\n",
       "      <td>-8.673617e-19</td>\n",
       "      <td>4.336809e-19</td>\n",
       "      <td>4.336809e-19</td>\n",
       "      <td>-1.734723e-18</td>\n",
       "      <td>...</td>\n",
       "      <td>0.716010</td>\n",
       "      <td>-0.274151</td>\n",
       "      <td>1.636446</td>\n",
       "      <td>-0.760477</td>\n",
       "      <td>0.975134</td>\n",
       "      <td>-0.435736</td>\n",
       "      <td>0.177947</td>\n",
       "      <td>0.522545</td>\n",
       "      <td>1.598403</td>\n",
       "      <td>1.882844</td>\n",
       "    </tr>\n",
       "    <tr>\n",
       "      <th>3</th>\n",
       "      <td>0.016511</td>\n",
       "      <td>0.016511</td>\n",
       "      <td>1.732793</td>\n",
       "      <td>1.845380</td>\n",
       "      <td>-1.084202e-19</td>\n",
       "      <td>2.168404e-19</td>\n",
       "      <td>-8.673617e-19</td>\n",
       "      <td>4.336809e-19</td>\n",
       "      <td>4.336809e-19</td>\n",
       "      <td>-1.734723e-18</td>\n",
       "      <td>...</td>\n",
       "      <td>1.678171</td>\n",
       "      <td>1.327946</td>\n",
       "      <td>-0.317189</td>\n",
       "      <td>1.299886</td>\n",
       "      <td>-0.366072</td>\n",
       "      <td>1.210826</td>\n",
       "      <td>1.040557</td>\n",
       "      <td>-0.595751</td>\n",
       "      <td>-0.153452</td>\n",
       "      <td>-0.385055</td>\n",
       "    </tr>\n",
       "    <tr>\n",
       "      <th>4</th>\n",
       "      <td>0.016511</td>\n",
       "      <td>0.016511</td>\n",
       "      <td>0.396941</td>\n",
       "      <td>0.519888</td>\n",
       "      <td>-1.084202e-19</td>\n",
       "      <td>2.168404e-19</td>\n",
       "      <td>-8.673617e-19</td>\n",
       "      <td>4.336809e-19</td>\n",
       "      <td>4.336809e-19</td>\n",
       "      <td>-1.734723e-18</td>\n",
       "      <td>...</td>\n",
       "      <td>0.585554</td>\n",
       "      <td>0.153959</td>\n",
       "      <td>1.199715</td>\n",
       "      <td>-0.333178</td>\n",
       "      <td>1.042194</td>\n",
       "      <td>0.272602</td>\n",
       "      <td>-0.857498</td>\n",
       "      <td>0.382853</td>\n",
       "      <td>0.989249</td>\n",
       "      <td>0.922334</td>\n",
       "    </tr>\n",
       "    <tr>\n",
       "      <th>...</th>\n",
       "      <td>...</td>\n",
       "      <td>...</td>\n",
       "      <td>...</td>\n",
       "      <td>...</td>\n",
       "      <td>...</td>\n",
       "      <td>...</td>\n",
       "      <td>...</td>\n",
       "      <td>...</td>\n",
       "      <td>...</td>\n",
       "      <td>...</td>\n",
       "      <td>...</td>\n",
       "      <td>...</td>\n",
       "      <td>...</td>\n",
       "      <td>...</td>\n",
       "      <td>...</td>\n",
       "      <td>...</td>\n",
       "      <td>...</td>\n",
       "      <td>...</td>\n",
       "      <td>...</td>\n",
       "      <td>...</td>\n",
       "      <td>...</td>\n",
       "    </tr>\n",
       "    <tr>\n",
       "      <th>3664</th>\n",
       "      <td>0.016511</td>\n",
       "      <td>0.016511</td>\n",
       "      <td>1.527288</td>\n",
       "      <td>1.437547</td>\n",
       "      <td>-1.084202e-19</td>\n",
       "      <td>2.168404e-19</td>\n",
       "      <td>-8.673617e-19</td>\n",
       "      <td>4.336809e-19</td>\n",
       "      <td>4.336809e-19</td>\n",
       "      <td>-1.734723e-18</td>\n",
       "      <td>...</td>\n",
       "      <td>-0.238578</td>\n",
       "      <td>0.527386</td>\n",
       "      <td>-1.553173</td>\n",
       "      <td>0.441923</td>\n",
       "      <td>-1.192977</td>\n",
       "      <td>1.877771</td>\n",
       "      <td>-3.116419</td>\n",
       "      <td>3.807270</td>\n",
       "      <td>-1.752493</td>\n",
       "      <td>-1.131754</td>\n",
       "    </tr>\n",
       "    <tr>\n",
       "      <th>3665</th>\n",
       "      <td>0.016511</td>\n",
       "      <td>0.016511</td>\n",
       "      <td>2.554854</td>\n",
       "      <td>2.661046</td>\n",
       "      <td>-1.084202e-19</td>\n",
       "      <td>2.168404e-19</td>\n",
       "      <td>-8.673617e-19</td>\n",
       "      <td>4.336809e-19</td>\n",
       "      <td>4.336809e-19</td>\n",
       "      <td>-1.734723e-18</td>\n",
       "      <td>...</td>\n",
       "      <td>-1.405803</td>\n",
       "      <td>-0.928479</td>\n",
       "      <td>-0.623073</td>\n",
       "      <td>-0.704217</td>\n",
       "      <td>0.483530</td>\n",
       "      <td>-0.937006</td>\n",
       "      <td>-0.982877</td>\n",
       "      <td>-0.483138</td>\n",
       "      <td>-0.668514</td>\n",
       "      <td>-0.763465</td>\n",
       "    </tr>\n",
       "    <tr>\n",
       "      <th>3666</th>\n",
       "      <td>0.016511</td>\n",
       "      <td>0.016511</td>\n",
       "      <td>0.294189</td>\n",
       "      <td>0.417894</td>\n",
       "      <td>-1.084202e-19</td>\n",
       "      <td>2.168404e-19</td>\n",
       "      <td>-8.673617e-19</td>\n",
       "      <td>4.336809e-19</td>\n",
       "      <td>4.336809e-19</td>\n",
       "      <td>-1.734723e-18</td>\n",
       "      <td>...</td>\n",
       "      <td>0.149264</td>\n",
       "      <td>-0.867684</td>\n",
       "      <td>1.071287</td>\n",
       "      <td>-1.267350</td>\n",
       "      <td>-0.612132</td>\n",
       "      <td>-0.601305</td>\n",
       "      <td>0.762265</td>\n",
       "      <td>0.828564</td>\n",
       "      <td>1.232033</td>\n",
       "      <td>1.283185</td>\n",
       "    </tr>\n",
       "    <tr>\n",
       "      <th>3667</th>\n",
       "      <td>0.016511</td>\n",
       "      <td>0.016511</td>\n",
       "      <td>-1.658177</td>\n",
       "      <td>-1.927110</td>\n",
       "      <td>-1.084202e-19</td>\n",
       "      <td>2.168404e-19</td>\n",
       "      <td>-8.673617e-19</td>\n",
       "      <td>4.336809e-19</td>\n",
       "      <td>4.336809e-19</td>\n",
       "      <td>-1.734723e-18</td>\n",
       "      <td>...</td>\n",
       "      <td>0.070870</td>\n",
       "      <td>0.253168</td>\n",
       "      <td>0.520210</td>\n",
       "      <td>0.521421</td>\n",
       "      <td>-0.097831</td>\n",
       "      <td>-0.495489</td>\n",
       "      <td>-1.368761</td>\n",
       "      <td>-0.740223</td>\n",
       "      <td>0.598514</td>\n",
       "      <td>0.402718</td>\n",
       "    </tr>\n",
       "    <tr>\n",
       "      <th>3668</th>\n",
       "      <td>0.016511</td>\n",
       "      <td>0.016511</td>\n",
       "      <td>1.835559</td>\n",
       "      <td>1.947232</td>\n",
       "      <td>-1.084202e-19</td>\n",
       "      <td>2.168404e-19</td>\n",
       "      <td>-8.673617e-19</td>\n",
       "      <td>4.336809e-19</td>\n",
       "      <td>4.336809e-19</td>\n",
       "      <td>-1.734723e-18</td>\n",
       "      <td>...</td>\n",
       "      <td>0.417750</td>\n",
       "      <td>1.050682</td>\n",
       "      <td>-0.505325</td>\n",
       "      <td>1.018281</td>\n",
       "      <td>-0.678676</td>\n",
       "      <td>0.111597</td>\n",
       "      <td>-0.179160</td>\n",
       "      <td>-1.318843</td>\n",
       "      <td>-0.321303</td>\n",
       "      <td>-0.522767</td>\n",
       "    </tr>\n",
       "  </tbody>\n",
       "</table>\n",
       "<p>3669 rows × 288 columns</p>\n",
       "</div>"
      ],
      "text/plain": [
       "      0_ECDF Percentile Count_0  0_ECDF Percentile Count_1  \\\n",
       "0                      0.016511                   0.016511   \n",
       "1                      0.016511                   0.016511   \n",
       "2                      0.016511                   0.016511   \n",
       "3                      0.016511                   0.016511   \n",
       "4                      0.016511                   0.016511   \n",
       "...                         ...                        ...   \n",
       "3664                   0.016511                   0.016511   \n",
       "3665                   0.016511                   0.016511   \n",
       "3666                   0.016511                   0.016511   \n",
       "3667                   0.016511                   0.016511   \n",
       "3668                   0.016511                   0.016511   \n",
       "\n",
       "      0_ECDF Percentile_0  0_ECDF Percentile_1      0_ECDF_0      0_ECDF_1  \\\n",
       "0                0.191422             0.519888 -1.084202e-19  2.168404e-19   \n",
       "1                1.116250             1.029714 -1.084202e-19  2.168404e-19   \n",
       "2               -0.836101            -0.499624 -1.084202e-19  2.168404e-19   \n",
       "3                1.732793             1.845380 -1.084202e-19  2.168404e-19   \n",
       "4                0.396941             0.519888 -1.084202e-19  2.168404e-19   \n",
       "...                   ...                  ...           ...           ...   \n",
       "3664             1.527288             1.437547 -1.084202e-19  2.168404e-19   \n",
       "3665             2.554854             2.661046 -1.084202e-19  2.168404e-19   \n",
       "3666             0.294189             0.417894 -1.084202e-19  2.168404e-19   \n",
       "3667            -1.658177            -1.927110 -1.084202e-19  2.168404e-19   \n",
       "3668             1.835559             1.947232 -1.084202e-19  2.168404e-19   \n",
       "\n",
       "          0_ECDF_2      0_ECDF_3      0_ECDF_4      0_ECDF_5  ...     7_Max  \\\n",
       "0    -8.673617e-19  4.336809e-19  4.336809e-19 -1.734723e-18  ... -0.305699   \n",
       "1    -8.673617e-19  4.336809e-19  4.336809e-19 -1.734723e-18  ...  0.529619   \n",
       "2    -8.673617e-19  4.336809e-19  4.336809e-19 -1.734723e-18  ...  0.716010   \n",
       "3    -8.673617e-19  4.336809e-19  4.336809e-19 -1.734723e-18  ...  1.678171   \n",
       "4    -8.673617e-19  4.336809e-19  4.336809e-19 -1.734723e-18  ...  0.585554   \n",
       "...            ...           ...           ...           ...  ...       ...   \n",
       "3664 -8.673617e-19  4.336809e-19  4.336809e-19 -1.734723e-18  ... -0.238578   \n",
       "3665 -8.673617e-19  4.336809e-19  4.336809e-19 -1.734723e-18  ... -1.405803   \n",
       "3666 -8.673617e-19  4.336809e-19  4.336809e-19 -1.734723e-18  ...  0.149264   \n",
       "3667 -8.673617e-19  4.336809e-19  4.336809e-19 -1.734723e-18  ...  0.070870   \n",
       "3668 -8.673617e-19  4.336809e-19  4.336809e-19 -1.734723e-18  ...  0.417750   \n",
       "\n",
       "        7_Mean  7_Mean absolute deviation  7_Median  \\\n",
       "0    -1.369983                  -1.011954 -1.131517   \n",
       "1     1.318120                  -0.676444  1.266787   \n",
       "2    -0.274151                   1.636446 -0.760477   \n",
       "3     1.327946                  -0.317189  1.299886   \n",
       "4     0.153959                   1.199715 -0.333178   \n",
       "...        ...                        ...       ...   \n",
       "3664  0.527386                  -1.553173  0.441923   \n",
       "3665 -0.928479                  -0.623073 -0.704217   \n",
       "3666 -0.867684                   1.071287 -1.267350   \n",
       "3667  0.253168                   0.520210  0.521421   \n",
       "3668  1.050682                  -0.505325  1.018281   \n",
       "\n",
       "      7_Median absolute deviation     7_Min  7_Root mean square  7_Skewness  \\\n",
       "0                       -0.969615 -2.284588            1.011258    0.613592   \n",
       "1                       -0.724071  1.312078            0.760908   -1.288992   \n",
       "2                        0.975134 -0.435736            0.177947    0.522545   \n",
       "3                       -0.366072  1.210826            1.040557   -0.595751   \n",
       "4                        1.042194  0.272602           -0.857498    0.382853   \n",
       "...                           ...       ...                 ...         ...   \n",
       "3664                    -1.192977  1.877771           -3.116419    3.807270   \n",
       "3665                     0.483530 -0.937006           -0.982877   -0.483138   \n",
       "3666                    -0.612132 -0.601305            0.762265    0.828564   \n",
       "3667                    -0.097831 -0.495489           -1.368761   -0.740223   \n",
       "3668                    -0.678676  0.111597           -0.179160   -1.318843   \n",
       "\n",
       "      7_Standard deviation  7_Variance  \n",
       "0                -0.354014   -0.547985  \n",
       "1                -0.545001   -0.684666  \n",
       "2                 1.598403    1.882844  \n",
       "3                -0.153452   -0.385055  \n",
       "4                 0.989249    0.922334  \n",
       "...                    ...         ...  \n",
       "3664             -1.752493   -1.131754  \n",
       "3665             -0.668514   -0.763465  \n",
       "3666              1.232033    1.283185  \n",
       "3667              0.598514    0.402718  \n",
       "3668             -0.321303   -0.522767  \n",
       "\n",
       "[3669 rows x 288 columns]"
      ]
     },
     "execution_count": 23,
     "metadata": {},
     "output_type": "execute_result"
    }
   ],
   "source": [
    "X_train\n"
   ]
  },
  {
   "cell_type": "code",
   "execution_count": 24,
   "metadata": {
    "id": "VGVckK4l2Xrb"
   },
   "outputs": [],
   "source": [
    "from sklearn.ensemble import GradientBoostingRegressor"
   ]
  },
  {
   "cell_type": "code",
   "execution_count": 25,
   "metadata": {
    "colab": {
     "base_uri": "https://localhost:8080/"
    },
    "id": "GPgcgHLk2tqw",
    "outputId": "9168dadb-080f-442f-ea62-cf9cfbe1f7d3"
   },
   "outputs": [
    {
     "name": "stdout",
     "output_type": "stream",
     "text": [
      "correlated features:  84\n"
     ]
    }
   ],
   "source": [
    "def correlation(dataset, threshold):\n",
    "    col_corr = set()  # Set of all the names of correlated columns\n",
    "    corr_matrix = dataset.corr()\n",
    "    for i in range(len(corr_matrix.columns)):\n",
    "        for j in range(i):\n",
    "            if abs(corr_matrix.iloc[i, j]) > threshold: # we are interested in absolute coeff value\n",
    "                colname = corr_matrix.columns[i]  # getting the name of column\n",
    "                col_corr.add(colname)\n",
    "    return col_corr\n",
    "\n",
    "corr_features = correlation(X_train, 0.8)\n",
    "print('correlated features: ', len(set(corr_features)) )"
   ]
  },
  {
   "cell_type": "code",
   "execution_count": 26,
   "metadata": {
    "colab": {
     "base_uri": "https://localhost:8080/",
     "height": 218
    },
    "id": "6MLH9dDv3l2V",
    "outputId": "559fbd79-9b6e-4ed4-b121-e5bed08ed38c"
   },
   "outputs": [
    {
     "data": {
      "text/plain": [
       "((3669, 204), (1573, 204))"
      ]
     },
     "execution_count": 26,
     "metadata": {},
     "output_type": "execute_result"
    }
   ],
   "source": [
    "X_train.drop(labels=corr_features, axis=1, inplace=True)\n",
    "X_test.drop(labels=corr_features, axis=1, inplace=True)\n",
    "\n",
    "X_train.shape, X_test.shape"
   ]
  },
  {
   "cell_type": "code",
   "execution_count": 27,
   "metadata": {
    "id": "eoWSCcEu3o5-"
   },
   "outputs": [
    {
     "name": "stderr",
     "output_type": "stream",
     "text": [
      "[Parallel(n_jobs=1)]: Using backend SequentialBackend with 1 concurrent workers.\n",
      "[Parallel(n_jobs=1)]: Done   1 out of   1 | elapsed:    1.8s remaining:    0.0s\n",
      "[Parallel(n_jobs=1)]: Done 204 out of 204 | elapsed:   15.7s finished\n",
      "\n",
      "[2023-04-02 16:45:40] Features: 1/20 -- score: 0.5596438869925654[Parallel(n_jobs=1)]: Using backend SequentialBackend with 1 concurrent workers.\n",
      "[Parallel(n_jobs=1)]: Done   1 out of   1 | elapsed:    0.0s remaining:    0.0s\n",
      "[Parallel(n_jobs=1)]: Done 203 out of 203 | elapsed:   19.1s finished\n",
      "\n",
      "[2023-04-02 16:45:59] Features: 2/20 -- score: 0.7223458847649655[Parallel(n_jobs=1)]: Using backend SequentialBackend with 1 concurrent workers.\n",
      "[Parallel(n_jobs=1)]: Done   1 out of   1 | elapsed:    0.0s remaining:    0.0s\n",
      "[Parallel(n_jobs=1)]: Done 202 out of 202 | elapsed:   22.2s finished\n",
      "\n",
      "[2023-04-02 16:46:21] Features: 3/20 -- score: 0.786379232736915[Parallel(n_jobs=1)]: Using backend SequentialBackend with 1 concurrent workers.\n",
      "[Parallel(n_jobs=1)]: Done   1 out of   1 | elapsed:    0.0s remaining:    0.0s\n",
      "[Parallel(n_jobs=1)]: Done 201 out of 201 | elapsed:   24.1s finished\n",
      "\n",
      "[2023-04-02 16:46:46] Features: 4/20 -- score: 0.8291631169429406[Parallel(n_jobs=1)]: Using backend SequentialBackend with 1 concurrent workers.\n",
      "[Parallel(n_jobs=1)]: Done   1 out of   1 | elapsed:    0.0s remaining:    0.0s\n",
      "[Parallel(n_jobs=1)]: Done 200 out of 200 | elapsed:   18.0s finished\n",
      "\n",
      "[2023-04-02 16:47:04] Features: 5/20 -- score: 0.8519326151403668[Parallel(n_jobs=1)]: Using backend SequentialBackend with 1 concurrent workers.\n",
      "[Parallel(n_jobs=1)]: Done   1 out of   1 | elapsed:    0.0s remaining:    0.0s\n",
      "[Parallel(n_jobs=1)]: Done 199 out of 199 | elapsed:   18.1s finished\n",
      "\n",
      "[2023-04-02 16:47:22] Features: 6/20 -- score: 0.8614655105740239[Parallel(n_jobs=1)]: Using backend SequentialBackend with 1 concurrent workers.\n",
      "[Parallel(n_jobs=1)]: Done   1 out of   1 | elapsed:    0.0s remaining:    0.0s\n",
      "[Parallel(n_jobs=1)]: Done 198 out of 198 | elapsed:   20.7s finished\n",
      "\n",
      "[2023-04-02 16:47:43] Features: 7/20 -- score: 0.8667543904672499[Parallel(n_jobs=1)]: Using backend SequentialBackend with 1 concurrent workers.\n",
      "[Parallel(n_jobs=1)]: Done   1 out of   1 | elapsed:    0.0s remaining:    0.0s\n",
      "[Parallel(n_jobs=1)]: Done 197 out of 197 | elapsed:   21.0s finished\n",
      "\n",
      "[2023-04-02 16:48:04] Features: 8/20 -- score: 0.871406465620206[Parallel(n_jobs=1)]: Using backend SequentialBackend with 1 concurrent workers.\n",
      "[Parallel(n_jobs=1)]: Done   1 out of   1 | elapsed:    0.0s remaining:    0.0s\n",
      "[Parallel(n_jobs=1)]: Done 196 out of 196 | elapsed:   21.9s finished\n",
      "\n",
      "[2023-04-02 16:48:26] Features: 9/20 -- score: 0.8781982679468352[Parallel(n_jobs=1)]: Using backend SequentialBackend with 1 concurrent workers.\n",
      "[Parallel(n_jobs=1)]: Done   1 out of   1 | elapsed:    0.0s remaining:    0.0s\n",
      "[Parallel(n_jobs=1)]: Done 195 out of 195 | elapsed:   23.8s finished\n",
      "\n",
      "[2023-04-02 16:48:50] Features: 10/20 -- score: 0.882556680640068[Parallel(n_jobs=1)]: Using backend SequentialBackend with 1 concurrent workers.\n",
      "[Parallel(n_jobs=1)]: Done   1 out of   1 | elapsed:    0.0s remaining:    0.0s\n",
      "[Parallel(n_jobs=1)]: Done 194 out of 194 | elapsed:   25.8s finished\n",
      "\n",
      "[2023-04-02 16:49:16] Features: 11/20 -- score: 0.8838932291714731[Parallel(n_jobs=1)]: Using backend SequentialBackend with 1 concurrent workers.\n",
      "[Parallel(n_jobs=1)]: Done   1 out of   1 | elapsed:    0.0s remaining:    0.0s\n",
      "[Parallel(n_jobs=1)]: Done 193 out of 193 | elapsed:   24.9s finished\n",
      "\n",
      "[2023-04-02 16:49:41] Features: 12/20 -- score: 0.8845912993669087[Parallel(n_jobs=1)]: Using backend SequentialBackend with 1 concurrent workers.\n",
      "[Parallel(n_jobs=1)]: Done   1 out of   1 | elapsed:    0.0s remaining:    0.0s\n",
      "[Parallel(n_jobs=1)]: Done 192 out of 192 | elapsed:   26.2s finished\n",
      "\n",
      "[2023-04-02 16:50:07] Features: 13/20 -- score: 0.8845625604176854[Parallel(n_jobs=1)]: Using backend SequentialBackend with 1 concurrent workers.\n",
      "[Parallel(n_jobs=1)]: Done   1 out of   1 | elapsed:    0.0s remaining:    0.0s\n",
      "[Parallel(n_jobs=1)]: Done 191 out of 191 | elapsed:   26.9s finished\n",
      "\n",
      "[2023-04-02 16:50:34] Features: 14/20 -- score: 0.8844922602905864[Parallel(n_jobs=1)]: Using backend SequentialBackend with 1 concurrent workers.\n",
      "[Parallel(n_jobs=1)]: Done   1 out of   1 | elapsed:    0.0s remaining:    0.0s\n",
      "[Parallel(n_jobs=1)]: Done 190 out of 190 | elapsed:   27.0s finished\n",
      "\n",
      "[2023-04-02 16:51:01] Features: 15/20 -- score: 0.8844771843488928[Parallel(n_jobs=1)]: Using backend SequentialBackend with 1 concurrent workers.\n",
      "[Parallel(n_jobs=1)]: Done   1 out of   1 | elapsed:    0.1s remaining:    0.0s\n",
      "[Parallel(n_jobs=1)]: Done 189 out of 189 | elapsed:   27.3s finished\n",
      "\n",
      "[2023-04-02 16:51:29] Features: 16/20 -- score: 0.8845566986614894[Parallel(n_jobs=1)]: Using backend SequentialBackend with 1 concurrent workers.\n",
      "[Parallel(n_jobs=1)]: Done   1 out of   1 | elapsed:    0.0s remaining:    0.0s\n",
      "[Parallel(n_jobs=1)]: Done 188 out of 188 | elapsed:   26.0s finished\n",
      "\n",
      "[2023-04-02 16:51:55] Features: 17/20 -- score: 0.8840975670114035[Parallel(n_jobs=1)]: Using backend SequentialBackend with 1 concurrent workers.\n",
      "[Parallel(n_jobs=1)]: Done   1 out of   1 | elapsed:    0.0s remaining:    0.0s\n",
      "[Parallel(n_jobs=1)]: Done 187 out of 187 | elapsed:   25.7s finished\n",
      "\n",
      "[2023-04-02 16:52:20] Features: 18/20 -- score: 0.8844434706131575[Parallel(n_jobs=1)]: Using backend SequentialBackend with 1 concurrent workers.\n",
      "[Parallel(n_jobs=1)]: Done   1 out of   1 | elapsed:    0.0s remaining:    0.0s\n",
      "[Parallel(n_jobs=1)]: Done 186 out of 186 | elapsed:   26.1s finished\n",
      "\n",
      "[2023-04-02 16:52:47] Features: 19/20 -- score: 0.8850150479179821[Parallel(n_jobs=1)]: Using backend SequentialBackend with 1 concurrent workers.\n",
      "[Parallel(n_jobs=1)]: Done   1 out of   1 | elapsed:    0.0s remaining:    0.0s\n",
      "[Parallel(n_jobs=1)]: Done 185 out of 185 | elapsed:   27.2s finished\n",
      "\n",
      "[2023-04-02 16:53:14] Features: 20/20 -- score: 0.8858314609714124"
     ]
    }
   ],
   "source": [
    "sfs = SFS(RandomForestRegressor(n_estimators=10, n_jobs=4, random_state=10), \n",
    "           k_features=20, \n",
    "           forward=True, \n",
    "           floating=False, \n",
    "           verbose=2,\n",
    "           scoring='r2',\n",
    "           cv=2)\n",
    "\n",
    "sfs = sfs.fit(np.array(X_train), y_train)"
   ]
  },
  {
   "cell_type": "code",
   "execution_count": 28,
   "metadata": {
    "colab": {
     "base_uri": "https://localhost:8080/"
    },
    "id": "69vW7hui8HZK",
    "outputId": "99225246-5634-4f5d-8e69-40577efce1a4"
   },
   "outputs": [
    {
     "data": {
      "text/plain": [
       "(0,\n",
       " 1,\n",
       " 44,\n",
       " 52,\n",
       " 53,\n",
       " 70,\n",
       " 72,\n",
       " 73,\n",
       " 74,\n",
       " 75,\n",
       " 77,\n",
       " 79,\n",
       " 90,\n",
       " 91,\n",
       " 97,\n",
       " 98,\n",
       " 114,\n",
       " 115,\n",
       " 146,\n",
       " 149)"
      ]
     },
     "execution_count": 28,
     "metadata": {},
     "output_type": "execute_result"
    }
   ],
   "source": [
    "sfs.k_feature_idx_"
   ]
  },
  {
   "cell_type": "code",
   "execution_count": 30,
   "metadata": {
    "id": "VKZMOD8LMr7B"
   },
   "outputs": [],
   "source": [
    "k_features = (0,\n",
    " 1,\n",
    " 44,\n",
    " 52,\n",
    " 53,\n",
    " 70,\n",
    " 72,\n",
    " 73,\n",
    " 74,\n",
    " 75,\n",
    " 77,\n",
    " 79,\n",
    " 90,\n",
    " 91,\n",
    " 97,\n",
    " 98,\n",
    " 114,\n",
    " 115,\n",
    " 146,\n",
    " 149)"
   ]
  },
  {
   "cell_type": "code",
   "execution_count": 31,
   "metadata": {
    "colab": {
     "base_uri": "https://localhost:8080/"
    },
    "id": "KtqDG75m8Kcn",
    "outputId": "9e96d1db-58f4-416c-e33c-0e0ddc6b63ac"
   },
   "outputs": [
    {
     "data": {
      "text/plain": [
       "Index(['0_ECDF Percentile Count_0', '0_ECDF Percentile_0', '1_Histogram_1',\n",
       "       '2_ECDF Percentile_0', '2_ECDF Percentile_1', '2_Mean', '2_Median',\n",
       "       '2_Min', '2_Skewness', '3_ECDF Percentile Count_0',\n",
       "       '3_ECDF Percentile_0', '3_ECDF_0', '3_Histogram_1', '3_Histogram_2',\n",
       "       '3_Min', '3_Skewness', '4_Histogram_3', '4_Histogram_4', '5_Mean',\n",
       "       '6_ECDF Percentile Count_0'],\n",
       "      dtype='object')"
      ]
     },
     "execution_count": 31,
     "metadata": {},
     "output_type": "execute_result"
    }
   ],
   "source": [
    "X_train.columns[list(k_features)]"
   ]
  },
  {
   "cell_type": "code",
   "execution_count": 35,
   "metadata": {
    "id": "HT4V0hXo8QXq"
   },
   "outputs": [],
   "source": [
    "def run_randomForests(X_train, X_test, y_train, y_test): \n",
    "    rf = RandomForestRegressor(n_estimators=10, random_state=10)\n",
    "    rf.fit(X_train, y_train)\n",
    "    print('Train set')\n",
    "    pred = rf.predict(X_train)\n",
    "    print('Random Forests roc-auc: {}'.format(r2_score(y_train, pred)))\n",
    "    print('Test set')\n",
    "    pred = rf.predict(X_test)\n",
    "    print('Random Forests roc-auc: {}'.format(r2_score(y_test, pred)))"
   ]
  },
  {
   "cell_type": "code",
   "execution_count": 36,
   "metadata": {
    "id": "vFLMd8kX8SzF"
   },
   "outputs": [],
   "source": [
    "selected_feat = X_train.columns[list(k_features)]"
   ]
  },
  {
   "cell_type": "code",
   "execution_count": 37,
   "metadata": {
    "colab": {
     "base_uri": "https://localhost:8080/"
    },
    "id": "JixVwPK38Usx",
    "outputId": "314aabfa-65e6-4bc8-d664-7e23df544e30"
   },
   "outputs": [
    {
     "name": "stdout",
     "output_type": "stream",
     "text": [
      "Train set\n",
      "Random Forests roc-auc: 0.9718951344430296\n",
      "Test set\n",
      "Random Forests roc-auc: 0.8890884944382905\n"
     ]
    }
   ],
   "source": [
    "run_randomForests(X_train[selected_feat],\n",
    "                  X_test[selected_feat],\n",
    "                  y_train, y_test)"
   ]
  },
  {
   "cell_type": "markdown",
   "metadata": {
    "id": "tMqsdcR5IOgp"
   },
   "source": [
    "#Applying ML Algorithms\n"
   ]
  },
  {
   "cell_type": "markdown",
   "metadata": {
    "id": "UyXxSmpzT25L"
   },
   "source": [
    "##Multiple Regression"
   ]
  },
  {
   "cell_type": "markdown",
   "metadata": {
    "id": "3ehs1uDZH6HM"
   },
   "source": [
    "Model Selection"
   ]
  },
  {
   "cell_type": "markdown",
   "metadata": {
    "id": "VNI-kswA7yLl"
   },
   "source": [
    "##Random Forest Regressor"
   ]
  },
  {
   "cell_type": "code",
   "execution_count": 38,
   "metadata": {
    "id": "xwmduMFZMJNe"
   },
   "outputs": [],
   "source": [
    "from sklearn.model_selection import GridSearchCV\n",
    "from sklearn.ensemble import RandomForestRegressor\n",
    "param_grid = {\n",
    "    'bootstrap': [True],\n",
    "    'max_depth': [ 90, 100, 110],\n",
    "    'max_features': [ 3],\n",
    "    'min_samples_leaf': [ 4, 5],\n",
    "    'min_samples_split': [ 10, 12],\n",
    "    'n_estimators': range(1,100,10)\n",
    "}\n",
    "\n",
    "rf = RandomForestRegressor()\n",
    "\n",
    "grid_search = GridSearchCV(estimator = rf, param_grid = param_grid, \n",
    "                          cv = 3, n_jobs = -1, verbose = 2)\n"
   ]
  },
  {
   "cell_type": "code",
   "execution_count": 39,
   "metadata": {
    "colab": {
     "base_uri": "https://localhost:8080/",
     "height": 134
    },
    "id": "bNVqw0nsMPiM",
    "outputId": "c219343d-1846-49b9-c36b-6cf27c45863b"
   },
   "outputs": [
    {
     "name": "stdout",
     "output_type": "stream",
     "text": [
      "Fitting 3 folds for each of 120 candidates, totalling 360 fits\n"
     ]
    },
    {
     "data": {
      "text/html": [
       "<style>#sk-container-id-1 {color: black;background-color: white;}#sk-container-id-1 pre{padding: 0;}#sk-container-id-1 div.sk-toggleable {background-color: white;}#sk-container-id-1 label.sk-toggleable__label {cursor: pointer;display: block;width: 100%;margin-bottom: 0;padding: 0.3em;box-sizing: border-box;text-align: center;}#sk-container-id-1 label.sk-toggleable__label-arrow:before {content: \"▸\";float: left;margin-right: 0.25em;color: #696969;}#sk-container-id-1 label.sk-toggleable__label-arrow:hover:before {color: black;}#sk-container-id-1 div.sk-estimator:hover label.sk-toggleable__label-arrow:before {color: black;}#sk-container-id-1 div.sk-toggleable__content {max-height: 0;max-width: 0;overflow: hidden;text-align: left;background-color: #f0f8ff;}#sk-container-id-1 div.sk-toggleable__content pre {margin: 0.2em;color: black;border-radius: 0.25em;background-color: #f0f8ff;}#sk-container-id-1 input.sk-toggleable__control:checked~div.sk-toggleable__content {max-height: 200px;max-width: 100%;overflow: auto;}#sk-container-id-1 input.sk-toggleable__control:checked~label.sk-toggleable__label-arrow:before {content: \"▾\";}#sk-container-id-1 div.sk-estimator input.sk-toggleable__control:checked~label.sk-toggleable__label {background-color: #d4ebff;}#sk-container-id-1 div.sk-label input.sk-toggleable__control:checked~label.sk-toggleable__label {background-color: #d4ebff;}#sk-container-id-1 input.sk-hidden--visually {border: 0;clip: rect(1px 1px 1px 1px);clip: rect(1px, 1px, 1px, 1px);height: 1px;margin: -1px;overflow: hidden;padding: 0;position: absolute;width: 1px;}#sk-container-id-1 div.sk-estimator {font-family: monospace;background-color: #f0f8ff;border: 1px dotted black;border-radius: 0.25em;box-sizing: border-box;margin-bottom: 0.5em;}#sk-container-id-1 div.sk-estimator:hover {background-color: #d4ebff;}#sk-container-id-1 div.sk-parallel-item::after {content: \"\";width: 100%;border-bottom: 1px solid gray;flex-grow: 1;}#sk-container-id-1 div.sk-label:hover label.sk-toggleable__label {background-color: #d4ebff;}#sk-container-id-1 div.sk-serial::before {content: \"\";position: absolute;border-left: 1px solid gray;box-sizing: border-box;top: 0;bottom: 0;left: 50%;z-index: 0;}#sk-container-id-1 div.sk-serial {display: flex;flex-direction: column;align-items: center;background-color: white;padding-right: 0.2em;padding-left: 0.2em;position: relative;}#sk-container-id-1 div.sk-item {position: relative;z-index: 1;}#sk-container-id-1 div.sk-parallel {display: flex;align-items: stretch;justify-content: center;background-color: white;position: relative;}#sk-container-id-1 div.sk-item::before, #sk-container-id-1 div.sk-parallel-item::before {content: \"\";position: absolute;border-left: 1px solid gray;box-sizing: border-box;top: 0;bottom: 0;left: 50%;z-index: -1;}#sk-container-id-1 div.sk-parallel-item {display: flex;flex-direction: column;z-index: 1;position: relative;background-color: white;}#sk-container-id-1 div.sk-parallel-item:first-child::after {align-self: flex-end;width: 50%;}#sk-container-id-1 div.sk-parallel-item:last-child::after {align-self: flex-start;width: 50%;}#sk-container-id-1 div.sk-parallel-item:only-child::after {width: 0;}#sk-container-id-1 div.sk-dashed-wrapped {border: 1px dashed gray;margin: 0 0.4em 0.5em 0.4em;box-sizing: border-box;padding-bottom: 0.4em;background-color: white;}#sk-container-id-1 div.sk-label label {font-family: monospace;font-weight: bold;display: inline-block;line-height: 1.2em;}#sk-container-id-1 div.sk-label-container {text-align: center;}#sk-container-id-1 div.sk-container {/* jupyter's `normalize.less` sets `[hidden] { display: none; }` but bootstrap.min.css set `[hidden] { display: none !important; }` so we also need the `!important` here to be able to override the default hidden behavior on the sphinx rendered scikit-learn.org. See: https://github.com/scikit-learn/scikit-learn/issues/21755 */display: inline-block !important;position: relative;}#sk-container-id-1 div.sk-text-repr-fallback {display: none;}</style><div id=\"sk-container-id-1\" class=\"sk-top-container\"><div class=\"sk-text-repr-fallback\"><pre>GridSearchCV(cv=3, estimator=RandomForestRegressor(), n_jobs=-1,\n",
       "             param_grid={&#x27;bootstrap&#x27;: [True], &#x27;max_depth&#x27;: [90, 100, 110],\n",
       "                         &#x27;max_features&#x27;: [3], &#x27;min_samples_leaf&#x27;: [4, 5],\n",
       "                         &#x27;min_samples_split&#x27;: [10, 12],\n",
       "                         &#x27;n_estimators&#x27;: range(1, 100, 10)},\n",
       "             verbose=2)</pre><b>In a Jupyter environment, please rerun this cell to show the HTML representation or trust the notebook. <br />On GitHub, the HTML representation is unable to render, please try loading this page with nbviewer.org.</b></div><div class=\"sk-container\" hidden><div class=\"sk-item sk-dashed-wrapped\"><div class=\"sk-label-container\"><div class=\"sk-label sk-toggleable\"><input class=\"sk-toggleable__control sk-hidden--visually\" id=\"sk-estimator-id-1\" type=\"checkbox\" ><label for=\"sk-estimator-id-1\" class=\"sk-toggleable__label sk-toggleable__label-arrow\">GridSearchCV</label><div class=\"sk-toggleable__content\"><pre>GridSearchCV(cv=3, estimator=RandomForestRegressor(), n_jobs=-1,\n",
       "             param_grid={&#x27;bootstrap&#x27;: [True], &#x27;max_depth&#x27;: [90, 100, 110],\n",
       "                         &#x27;max_features&#x27;: [3], &#x27;min_samples_leaf&#x27;: [4, 5],\n",
       "                         &#x27;min_samples_split&#x27;: [10, 12],\n",
       "                         &#x27;n_estimators&#x27;: range(1, 100, 10)},\n",
       "             verbose=2)</pre></div></div></div><div class=\"sk-parallel\"><div class=\"sk-parallel-item\"><div class=\"sk-item\"><div class=\"sk-label-container\"><div class=\"sk-label sk-toggleable\"><input class=\"sk-toggleable__control sk-hidden--visually\" id=\"sk-estimator-id-2\" type=\"checkbox\" ><label for=\"sk-estimator-id-2\" class=\"sk-toggleable__label sk-toggleable__label-arrow\">estimator: RandomForestRegressor</label><div class=\"sk-toggleable__content\"><pre>RandomForestRegressor()</pre></div></div></div><div class=\"sk-serial\"><div class=\"sk-item\"><div class=\"sk-estimator sk-toggleable\"><input class=\"sk-toggleable__control sk-hidden--visually\" id=\"sk-estimator-id-3\" type=\"checkbox\" ><label for=\"sk-estimator-id-3\" class=\"sk-toggleable__label sk-toggleable__label-arrow\">RandomForestRegressor</label><div class=\"sk-toggleable__content\"><pre>RandomForestRegressor()</pre></div></div></div></div></div></div></div></div></div></div>"
      ],
      "text/plain": [
       "GridSearchCV(cv=3, estimator=RandomForestRegressor(), n_jobs=-1,\n",
       "             param_grid={'bootstrap': [True], 'max_depth': [90, 100, 110],\n",
       "                         'max_features': [3], 'min_samples_leaf': [4, 5],\n",
       "                         'min_samples_split': [10, 12],\n",
       "                         'n_estimators': range(1, 100, 10)},\n",
       "             verbose=2)"
      ]
     },
     "execution_count": 39,
     "metadata": {},
     "output_type": "execute_result"
    }
   ],
   "source": [
    "\n",
    "grid_search.fit(X_train[selected_feat], y_train)"
   ]
  },
  {
   "cell_type": "code",
   "execution_count": 40,
   "metadata": {
    "id": "6EfDk1AiOXhF"
   },
   "outputs": [
    {
     "data": {
      "text/plain": [
       "{'bootstrap': True,\n",
       " 'max_depth': 90,\n",
       " 'max_features': 3,\n",
       " 'min_samples_leaf': 4,\n",
       " 'min_samples_split': 10,\n",
       " 'n_estimators': 71}"
      ]
     },
     "execution_count": 40,
     "metadata": {},
     "output_type": "execute_result"
    }
   ],
   "source": [
    "grid_search.best_params_"
   ]
  },
  {
   "cell_type": "code",
   "execution_count": 41,
   "metadata": {
    "colab": {
     "base_uri": "https://localhost:8080/",
     "height": 74
    },
    "id": "iVVzMpQS4wzD",
    "outputId": "26dd2efd-99ae-47c7-81e7-c7c90485e19e"
   },
   "outputs": [
    {
     "data": {
      "text/html": [
       "<style>#sk-container-id-2 {color: black;background-color: white;}#sk-container-id-2 pre{padding: 0;}#sk-container-id-2 div.sk-toggleable {background-color: white;}#sk-container-id-2 label.sk-toggleable__label {cursor: pointer;display: block;width: 100%;margin-bottom: 0;padding: 0.3em;box-sizing: border-box;text-align: center;}#sk-container-id-2 label.sk-toggleable__label-arrow:before {content: \"▸\";float: left;margin-right: 0.25em;color: #696969;}#sk-container-id-2 label.sk-toggleable__label-arrow:hover:before {color: black;}#sk-container-id-2 div.sk-estimator:hover label.sk-toggleable__label-arrow:before {color: black;}#sk-container-id-2 div.sk-toggleable__content {max-height: 0;max-width: 0;overflow: hidden;text-align: left;background-color: #f0f8ff;}#sk-container-id-2 div.sk-toggleable__content pre {margin: 0.2em;color: black;border-radius: 0.25em;background-color: #f0f8ff;}#sk-container-id-2 input.sk-toggleable__control:checked~div.sk-toggleable__content {max-height: 200px;max-width: 100%;overflow: auto;}#sk-container-id-2 input.sk-toggleable__control:checked~label.sk-toggleable__label-arrow:before {content: \"▾\";}#sk-container-id-2 div.sk-estimator input.sk-toggleable__control:checked~label.sk-toggleable__label {background-color: #d4ebff;}#sk-container-id-2 div.sk-label input.sk-toggleable__control:checked~label.sk-toggleable__label {background-color: #d4ebff;}#sk-container-id-2 input.sk-hidden--visually {border: 0;clip: rect(1px 1px 1px 1px);clip: rect(1px, 1px, 1px, 1px);height: 1px;margin: -1px;overflow: hidden;padding: 0;position: absolute;width: 1px;}#sk-container-id-2 div.sk-estimator {font-family: monospace;background-color: #f0f8ff;border: 1px dotted black;border-radius: 0.25em;box-sizing: border-box;margin-bottom: 0.5em;}#sk-container-id-2 div.sk-estimator:hover {background-color: #d4ebff;}#sk-container-id-2 div.sk-parallel-item::after {content: \"\";width: 100%;border-bottom: 1px solid gray;flex-grow: 1;}#sk-container-id-2 div.sk-label:hover label.sk-toggleable__label {background-color: #d4ebff;}#sk-container-id-2 div.sk-serial::before {content: \"\";position: absolute;border-left: 1px solid gray;box-sizing: border-box;top: 0;bottom: 0;left: 50%;z-index: 0;}#sk-container-id-2 div.sk-serial {display: flex;flex-direction: column;align-items: center;background-color: white;padding-right: 0.2em;padding-left: 0.2em;position: relative;}#sk-container-id-2 div.sk-item {position: relative;z-index: 1;}#sk-container-id-2 div.sk-parallel {display: flex;align-items: stretch;justify-content: center;background-color: white;position: relative;}#sk-container-id-2 div.sk-item::before, #sk-container-id-2 div.sk-parallel-item::before {content: \"\";position: absolute;border-left: 1px solid gray;box-sizing: border-box;top: 0;bottom: 0;left: 50%;z-index: -1;}#sk-container-id-2 div.sk-parallel-item {display: flex;flex-direction: column;z-index: 1;position: relative;background-color: white;}#sk-container-id-2 div.sk-parallel-item:first-child::after {align-self: flex-end;width: 50%;}#sk-container-id-2 div.sk-parallel-item:last-child::after {align-self: flex-start;width: 50%;}#sk-container-id-2 div.sk-parallel-item:only-child::after {width: 0;}#sk-container-id-2 div.sk-dashed-wrapped {border: 1px dashed gray;margin: 0 0.4em 0.5em 0.4em;box-sizing: border-box;padding-bottom: 0.4em;background-color: white;}#sk-container-id-2 div.sk-label label {font-family: monospace;font-weight: bold;display: inline-block;line-height: 1.2em;}#sk-container-id-2 div.sk-label-container {text-align: center;}#sk-container-id-2 div.sk-container {/* jupyter's `normalize.less` sets `[hidden] { display: none; }` but bootstrap.min.css set `[hidden] { display: none !important; }` so we also need the `!important` here to be able to override the default hidden behavior on the sphinx rendered scikit-learn.org. See: https://github.com/scikit-learn/scikit-learn/issues/21755 */display: inline-block !important;position: relative;}#sk-container-id-2 div.sk-text-repr-fallback {display: none;}</style><div id=\"sk-container-id-2\" class=\"sk-top-container\"><div class=\"sk-text-repr-fallback\"><pre>RandomForestRegressor(max_depth=90, max_features=3, min_samples_leaf=4,\n",
       "                      min_samples_split=10, n_estimators=71, random_state=10)</pre><b>In a Jupyter environment, please rerun this cell to show the HTML representation or trust the notebook. <br />On GitHub, the HTML representation is unable to render, please try loading this page with nbviewer.org.</b></div><div class=\"sk-container\" hidden><div class=\"sk-item\"><div class=\"sk-estimator sk-toggleable\"><input class=\"sk-toggleable__control sk-hidden--visually\" id=\"sk-estimator-id-4\" type=\"checkbox\" checked><label for=\"sk-estimator-id-4\" class=\"sk-toggleable__label sk-toggleable__label-arrow\">RandomForestRegressor</label><div class=\"sk-toggleable__content\"><pre>RandomForestRegressor(max_depth=90, max_features=3, min_samples_leaf=4,\n",
       "                      min_samples_split=10, n_estimators=71, random_state=10)</pre></div></div></div></div></div>"
      ],
      "text/plain": [
       "RandomForestRegressor(max_depth=90, max_features=3, min_samples_leaf=4,\n",
       "                      min_samples_split=10, n_estimators=71, random_state=10)"
      ]
     },
     "execution_count": 41,
     "metadata": {},
     "output_type": "execute_result"
    }
   ],
   "source": [
    "from sklearn.ensemble import RandomForestRegressor\n",
    "rf = RandomForestRegressor(n_estimators=71, max_depth = 90,max_features = 3,min_samples_leaf = 4,min_samples_split = 10 ,random_state=10)\n",
    "rf.fit(X_train[selected_feat], y_train)"
   ]
  },
  {
   "cell_type": "code",
   "execution_count": 93,
   "metadata": {
    "id": "RLNl6XII8KJr"
   },
   "outputs": [],
   "source": [
    "predictions = rf.predict(X_test[selected_feat])"
   ]
  },
  {
   "cell_type": "code",
   "execution_count": 94,
   "metadata": {
    "colab": {
     "base_uri": "https://localhost:8080/"
    },
    "id": "oEIUpVP28VOF",
    "outputId": "953e5de3-d994-40f3-bc18-20d7f479b040"
   },
   "outputs": [
    {
     "name": "stdout",
     "output_type": "stream",
     "text": [
      "MAE:  0.013355735078306296\n",
      "MSE:  0.00039067104909133325\n",
      "RMSE:  0.01976540030182372\n",
      "R2 score:  0.8685419403633204\n"
     ]
    }
   ],
   "source": [
    "print('MAE: ', metrics.mean_absolute_error(y_test, predictions))\n",
    "print('MSE: ', metrics.mean_squared_error(y_test, predictions))\n",
    "print('RMSE: ', np.sqrt(metrics.mean_squared_error(y_test, predictions)))\n",
    "print('R2 score: ', metrics.r2_score(y_test, predictions))"
   ]
  },
  {
   "cell_type": "code",
   "execution_count": 95,
   "metadata": {},
   "outputs": [
    {
     "data": {
      "image/png": "[encoded data removed]",
      "text/plain": [
       "<Figure size 720x720 with 1 Axes>"
      ]
     },
     "metadata": {
      "needs_background": "light"
     },
     "output_type": "display_data"
    }
   ],
   "source": [
    "import matplotlib.pyplot as plt\n",
    "\n",
    "# create the scatter plot\n",
    "plt.figure(figsize = (10,10))\n",
    "a = plt.axes(aspect='equal')\n",
    "plt.scatter(y_test, predictions, alpha=0.5)\n",
    "\n",
    "# set the title and labels for the plot\n",
    "plt.title('True vs. Predicted Values for WEAR using RFR', fontsize=16)\n",
    "plt.xlabel('True Values [WEAR]', fontsize=14)\n",
    "plt.ylabel('Predictions [WEAR]', fontsize=14)\n",
    "\n",
    "# set the font size and weight for the tick labels\n",
    "plt.xticks(fontsize=12)\n",
    "plt.yticks(fontsize=12)\n",
    "\n",
    "# set the x and y limits of the plot\n",
    "lims = [0, 0.30]\n",
    "plt.xlim(lims)\n",
    "plt.ylim(lims)\n",
    "\n",
    "# add a diagonal line to the plot\n",
    "_ = plt.plot(lims, lims, linestyle='--', color='gray', alpha=0.5)\n",
    "\n",
    "# display the plot\n",
    "plt.show()\n",
    "\n"
   ]
  },
  {
   "cell_type": "code",
   "execution_count": 57,
   "metadata": {},
   "outputs": [],
   "source": [
    "from sklearn.tree import DecisionTreeRegressor"
   ]
  },
  {
   "cell_type": "code",
   "execution_count": 67,
   "metadata": {},
   "outputs": [],
   "source": [
    "param_grid = {\n",
    "            \"splitter\":[\"best\",\"random\"],\n",
    "            \"max_depth\" : [1,3,5,7,9,11,12],\n",
    "           \"max_features\":[\"auto\",\"log2\",\"sqrt\",None],\n",
    "           \"max_leaf_nodes\":[None,10,20,30,40,50,60,70,80,90]\n",
    "}\n",
    "\n"
   ]
  },
  {
   "cell_type": "code",
   "execution_count": 79,
   "metadata": {},
   "outputs": [],
   "source": [
    "dtr = DecisionTreeRegressor()"
   ]
  },
  {
   "cell_type": "code",
   "execution_count": 80,
   "metadata": {},
   "outputs": [],
   "source": [
    "grid_search = GridSearchCV(estimator = dtr, param_grid = param_grid, \n",
    "                          cv = 3, n_jobs = -1, verbose = 2)\n"
   ]
  },
  {
   "cell_type": "code",
   "execution_count": 81,
   "metadata": {},
   "outputs": [
    {
     "name": "stdout",
     "output_type": "stream",
     "text": [
      "Fitting 3 folds for each of 560 candidates, totalling 1680 fits\n"
     ]
    },
    {
     "data": {
      "text/html": [
       "<style>#sk-container-id-6 {color: black;background-color: white;}#sk-container-id-6 pre{padding: 0;}#sk-container-id-6 div.sk-toggleable {background-color: white;}#sk-container-id-6 label.sk-toggleable__label {cursor: pointer;display: block;width: 100%;margin-bottom: 0;padding: 0.3em;box-sizing: border-box;text-align: center;}#sk-container-id-6 label.sk-toggleable__label-arrow:before {content: \"▸\";float: left;margin-right: 0.25em;color: #696969;}#sk-container-id-6 label.sk-toggleable__label-arrow:hover:before {color: black;}#sk-container-id-6 div.sk-estimator:hover label.sk-toggleable__label-arrow:before {color: black;}#sk-container-id-6 div.sk-toggleable__content {max-height: 0;max-width: 0;overflow: hidden;text-align: left;background-color: #f0f8ff;}#sk-container-id-6 div.sk-toggleable__content pre {margin: 0.2em;color: black;border-radius: 0.25em;background-color: #f0f8ff;}#sk-container-id-6 input.sk-toggleable__control:checked~div.sk-toggleable__content {max-height: 200px;max-width: 100%;overflow: auto;}#sk-container-id-6 input.sk-toggleable__control:checked~label.sk-toggleable__label-arrow:before {content: \"▾\";}#sk-container-id-6 div.sk-estimator input.sk-toggleable__control:checked~label.sk-toggleable__label {background-color: #d4ebff;}#sk-container-id-6 div.sk-label input.sk-toggleable__control:checked~label.sk-toggleable__label {background-color: #d4ebff;}#sk-container-id-6 input.sk-hidden--visually {border: 0;clip: rect(1px 1px 1px 1px);clip: rect(1px, 1px, 1px, 1px);height: 1px;margin: -1px;overflow: hidden;padding: 0;position: absolute;width: 1px;}#sk-container-id-6 div.sk-estimator {font-family: monospace;background-color: #f0f8ff;border: 1px dotted black;border-radius: 0.25em;box-sizing: border-box;margin-bottom: 0.5em;}#sk-container-id-6 div.sk-estimator:hover {background-color: #d4ebff;}#sk-container-id-6 div.sk-parallel-item::after {content: \"\";width: 100%;border-bottom: 1px solid gray;flex-grow: 1;}#sk-container-id-6 div.sk-label:hover label.sk-toggleable__label {background-color: #d4ebff;}#sk-container-id-6 div.sk-serial::before {content: \"\";position: absolute;border-left: 1px solid gray;box-sizing: border-box;top: 0;bottom: 0;left: 50%;z-index: 0;}#sk-container-id-6 div.sk-serial {display: flex;flex-direction: column;align-items: center;background-color: white;padding-right: 0.2em;padding-left: 0.2em;position: relative;}#sk-container-id-6 div.sk-item {position: relative;z-index: 1;}#sk-container-id-6 div.sk-parallel {display: flex;align-items: stretch;justify-content: center;background-color: white;position: relative;}#sk-container-id-6 div.sk-item::before, #sk-container-id-6 div.sk-parallel-item::before {content: \"\";position: absolute;border-left: 1px solid gray;box-sizing: border-box;top: 0;bottom: 0;left: 50%;z-index: -1;}#sk-container-id-6 div.sk-parallel-item {display: flex;flex-direction: column;z-index: 1;position: relative;background-color: white;}#sk-container-id-6 div.sk-parallel-item:first-child::after {align-self: flex-end;width: 50%;}#sk-container-id-6 div.sk-parallel-item:last-child::after {align-self: flex-start;width: 50%;}#sk-container-id-6 div.sk-parallel-item:only-child::after {width: 0;}#sk-container-id-6 div.sk-dashed-wrapped {border: 1px dashed gray;margin: 0 0.4em 0.5em 0.4em;box-sizing: border-box;padding-bottom: 0.4em;background-color: white;}#sk-container-id-6 div.sk-label label {font-family: monospace;font-weight: bold;display: inline-block;line-height: 1.2em;}#sk-container-id-6 div.sk-label-container {text-align: center;}#sk-container-id-6 div.sk-container {/* jupyter's `normalize.less` sets `[hidden] { display: none; }` but bootstrap.min.css set `[hidden] { display: none !important; }` so we also need the `!important` here to be able to override the default hidden behavior on the sphinx rendered scikit-learn.org. See: https://github.com/scikit-learn/scikit-learn/issues/21755 */display: inline-block !important;position: relative;}#sk-container-id-6 div.sk-text-repr-fallback {display: none;}</style><div id=\"sk-container-id-6\" class=\"sk-top-container\"><div class=\"sk-text-repr-fallback\"><pre>GridSearchCV(cv=3, estimator=DecisionTreeRegressor(), n_jobs=-1,\n",
       "             param_grid={&#x27;max_depth&#x27;: [1, 3, 5, 7, 9, 11, 12],\n",
       "                         &#x27;max_features&#x27;: [&#x27;auto&#x27;, &#x27;log2&#x27;, &#x27;sqrt&#x27;, None],\n",
       "                         &#x27;max_leaf_nodes&#x27;: [None, 10, 20, 30, 40, 50, 60, 70,\n",
       "                                            80, 90],\n",
       "                         &#x27;splitter&#x27;: [&#x27;best&#x27;, &#x27;random&#x27;]},\n",
       "             verbose=2)</pre><b>In a Jupyter environment, please rerun this cell to show the HTML representation or trust the notebook. <br />On GitHub, the HTML representation is unable to render, please try loading this page with nbviewer.org.</b></div><div class=\"sk-container\" hidden><div class=\"sk-item sk-dashed-wrapped\"><div class=\"sk-label-container\"><div class=\"sk-label sk-toggleable\"><input class=\"sk-toggleable__control sk-hidden--visually\" id=\"sk-estimator-id-10\" type=\"checkbox\" ><label for=\"sk-estimator-id-10\" class=\"sk-toggleable__label sk-toggleable__label-arrow\">GridSearchCV</label><div class=\"sk-toggleable__content\"><pre>GridSearchCV(cv=3, estimator=DecisionTreeRegressor(), n_jobs=-1,\n",
       "             param_grid={&#x27;max_depth&#x27;: [1, 3, 5, 7, 9, 11, 12],\n",
       "                         &#x27;max_features&#x27;: [&#x27;auto&#x27;, &#x27;log2&#x27;, &#x27;sqrt&#x27;, None],\n",
       "                         &#x27;max_leaf_nodes&#x27;: [None, 10, 20, 30, 40, 50, 60, 70,\n",
       "                                            80, 90],\n",
       "                         &#x27;splitter&#x27;: [&#x27;best&#x27;, &#x27;random&#x27;]},\n",
       "             verbose=2)</pre></div></div></div><div class=\"sk-parallel\"><div class=\"sk-parallel-item\"><div class=\"sk-item\"><div class=\"sk-label-container\"><div class=\"sk-label sk-toggleable\"><input class=\"sk-toggleable__control sk-hidden--visually\" id=\"sk-estimator-id-11\" type=\"checkbox\" ><label for=\"sk-estimator-id-11\" class=\"sk-toggleable__label sk-toggleable__label-arrow\">estimator: DecisionTreeRegressor</label><div class=\"sk-toggleable__content\"><pre>DecisionTreeRegressor()</pre></div></div></div><div class=\"sk-serial\"><div class=\"sk-item\"><div class=\"sk-estimator sk-toggleable\"><input class=\"sk-toggleable__control sk-hidden--visually\" id=\"sk-estimator-id-12\" type=\"checkbox\" ><label for=\"sk-estimator-id-12\" class=\"sk-toggleable__label sk-toggleable__label-arrow\">DecisionTreeRegressor</label><div class=\"sk-toggleable__content\"><pre>DecisionTreeRegressor()</pre></div></div></div></div></div></div></div></div></div></div>"
      ],
      "text/plain": [
       "GridSearchCV(cv=3, estimator=DecisionTreeRegressor(), n_jobs=-1,\n",
       "             param_grid={'max_depth': [1, 3, 5, 7, 9, 11, 12],\n",
       "                         'max_features': ['auto', 'log2', 'sqrt', None],\n",
       "                         'max_leaf_nodes': [None, 10, 20, 30, 40, 50, 60, 70,\n",
       "                                            80, 90],\n",
       "                         'splitter': ['best', 'random']},\n",
       "             verbose=2)"
      ]
     },
     "execution_count": 81,
     "metadata": {},
     "output_type": "execute_result"
    }
   ],
   "source": [
    "grid_search.fit(X_train[selected_feat], y_train)"
   ]
  },
  {
   "cell_type": "code",
   "execution_count": 82,
   "metadata": {},
   "outputs": [
    {
     "data": {
      "text/plain": [
       "{'max_depth': 11,\n",
       " 'max_features': None,\n",
       " 'max_leaf_nodes': None,\n",
       " 'splitter': 'best'}"
      ]
     },
     "execution_count": 82,
     "metadata": {},
     "output_type": "execute_result"
    }
   ],
   "source": [
    "grid_search.best_params_"
   ]
  },
  {
   "cell_type": "code",
   "execution_count": 86,
   "metadata": {},
   "outputs": [
    {
     "name": "stderr",
     "output_type": "stream",
     "text": [
      "C:\\Users\\HP\\anaconda3\\lib\\site-packages\\sklearn\\tree\\_classes.py:277: FutureWarning: `max_features='auto'` has been deprecated in 1.1 and will be removed in 1.3. To keep the past behaviour, explicitly set `max_features=1.0'`.\n",
      "  warnings.warn(\n"
     ]
    },
    {
     "data": {
      "text/html": [
       "<style>#sk-container-id-8 {color: black;background-color: white;}#sk-container-id-8 pre{padding: 0;}#sk-container-id-8 div.sk-toggleable {background-color: white;}#sk-container-id-8 label.sk-toggleable__label {cursor: pointer;display: block;width: 100%;margin-bottom: 0;padding: 0.3em;box-sizing: border-box;text-align: center;}#sk-container-id-8 label.sk-toggleable__label-arrow:before {content: \"▸\";float: left;margin-right: 0.25em;color: #696969;}#sk-container-id-8 label.sk-toggleable__label-arrow:hover:before {color: black;}#sk-container-id-8 div.sk-estimator:hover label.sk-toggleable__label-arrow:before {color: black;}#sk-container-id-8 div.sk-toggleable__content {max-height: 0;max-width: 0;overflow: hidden;text-align: left;background-color: #f0f8ff;}#sk-container-id-8 div.sk-toggleable__content pre {margin: 0.2em;color: black;border-radius: 0.25em;background-color: #f0f8ff;}#sk-container-id-8 input.sk-toggleable__control:checked~div.sk-toggleable__content {max-height: 200px;max-width: 100%;overflow: auto;}#sk-container-id-8 input.sk-toggleable__control:checked~label.sk-toggleable__label-arrow:before {content: \"▾\";}#sk-container-id-8 div.sk-estimator input.sk-toggleable__control:checked~label.sk-toggleable__label {background-color: #d4ebff;}#sk-container-id-8 div.sk-label input.sk-toggleable__control:checked~label.sk-toggleable__label {background-color: #d4ebff;}#sk-container-id-8 input.sk-hidden--visually {border: 0;clip: rect(1px 1px 1px 1px);clip: rect(1px, 1px, 1px, 1px);height: 1px;margin: -1px;overflow: hidden;padding: 0;position: absolute;width: 1px;}#sk-container-id-8 div.sk-estimator {font-family: monospace;background-color: #f0f8ff;border: 1px dotted black;border-radius: 0.25em;box-sizing: border-box;margin-bottom: 0.5em;}#sk-container-id-8 div.sk-estimator:hover {background-color: #d4ebff;}#sk-container-id-8 div.sk-parallel-item::after {content: \"\";width: 100%;border-bottom: 1px solid gray;flex-grow: 1;}#sk-container-id-8 div.sk-label:hover label.sk-toggleable__label {background-color: #d4ebff;}#sk-container-id-8 div.sk-serial::before {content: \"\";position: absolute;border-left: 1px solid gray;box-sizing: border-box;top: 0;bottom: 0;left: 50%;z-index: 0;}#sk-container-id-8 div.sk-serial {display: flex;flex-direction: column;align-items: center;background-color: white;padding-right: 0.2em;padding-left: 0.2em;position: relative;}#sk-container-id-8 div.sk-item {position: relative;z-index: 1;}#sk-container-id-8 div.sk-parallel {display: flex;align-items: stretch;justify-content: center;background-color: white;position: relative;}#sk-container-id-8 div.sk-item::before, #sk-container-id-8 div.sk-parallel-item::before {content: \"\";position: absolute;border-left: 1px solid gray;box-sizing: border-box;top: 0;bottom: 0;left: 50%;z-index: -1;}#sk-container-id-8 div.sk-parallel-item {display: flex;flex-direction: column;z-index: 1;position: relative;background-color: white;}#sk-container-id-8 div.sk-parallel-item:first-child::after {align-self: flex-end;width: 50%;}#sk-container-id-8 div.sk-parallel-item:last-child::after {align-self: flex-start;width: 50%;}#sk-container-id-8 div.sk-parallel-item:only-child::after {width: 0;}#sk-container-id-8 div.sk-dashed-wrapped {border: 1px dashed gray;margin: 0 0.4em 0.5em 0.4em;box-sizing: border-box;padding-bottom: 0.4em;background-color: white;}#sk-container-id-8 div.sk-label label {font-family: monospace;font-weight: bold;display: inline-block;line-height: 1.2em;}#sk-container-id-8 div.sk-label-container {text-align: center;}#sk-container-id-8 div.sk-container {/* jupyter's `normalize.less` sets `[hidden] { display: none; }` but bootstrap.min.css set `[hidden] { display: none !important; }` so we also need the `!important` here to be able to override the default hidden behavior on the sphinx rendered scikit-learn.org. See: https://github.com/scikit-learn/scikit-learn/issues/21755 */display: inline-block !important;position: relative;}#sk-container-id-8 div.sk-text-repr-fallback {display: none;}</style><div id=\"sk-container-id-8\" class=\"sk-top-container\"><div class=\"sk-text-repr-fallback\"><pre>DecisionTreeRegressor(max_depth=12, max_features=&#x27;auto&#x27;)</pre><b>In a Jupyter environment, please rerun this cell to show the HTML representation or trust the notebook. <br />On GitHub, the HTML representation is unable to render, please try loading this page with nbviewer.org.</b></div><div class=\"sk-container\" hidden><div class=\"sk-item\"><div class=\"sk-estimator sk-toggleable\"><input class=\"sk-toggleable__control sk-hidden--visually\" id=\"sk-estimator-id-14\" type=\"checkbox\" checked><label for=\"sk-estimator-id-14\" class=\"sk-toggleable__label sk-toggleable__label-arrow\">DecisionTreeRegressor</label><div class=\"sk-toggleable__content\"><pre>DecisionTreeRegressor(max_depth=12, max_features=&#x27;auto&#x27;)</pre></div></div></div></div></div>"
      ],
      "text/plain": [
       "DecisionTreeRegressor(max_depth=12, max_features='auto')"
      ]
     },
     "execution_count": 86,
     "metadata": {},
     "output_type": "execute_result"
    }
   ],
   "source": [
    "dtr = DecisionTreeRegressor(max_depth = 12, max_features = 'auto', splitter = 'best')\n",
    "dtr.fit(X_train[selected_feat], y_train)"
   ]
  },
  {
   "cell_type": "code",
   "execution_count": 87,
   "metadata": {},
   "outputs": [],
   "source": [
    "predictions = dtr.predict(X_test[selected_feat])"
   ]
  },
  {
   "cell_type": "code",
   "execution_count": 92,
   "metadata": {},
   "outputs": [
    {
     "data": {
      "image/png": "[encoded data removed]",
      "text/plain": [
       "<Figure size 720x720 with 1 Axes>"
      ]
     },
     "metadata": {
      "needs_background": "light"
     },
     "output_type": "display_data"
    }
   ],
   "source": [
    "import matplotlib.pyplot as plt\n",
    "\n",
    "# create the scatter plot\n",
    "plt.figure(figsize = (10,10))\n",
    "a = plt.axes(aspect='equal')\n",
    "plt.scatter(y_test, predictions, alpha=0.5)\n",
    "\n",
    "# set the title and labels for the plot\n",
    "plt.title('True vs. Predicted Values for WEAR using DTR', fontsize=16)\n",
    "plt.xlabel('True Values [WEAR]', fontsize=14)\n",
    "plt.ylabel('Predictions [WEAR]', fontsize=14)\n",
    "\n",
    "# set the font size and weight for the tick labels\n",
    "plt.xticks(fontsize=12)\n",
    "plt.yticks(fontsize=12)\n",
    "\n",
    "# set the x and y limits of the plot\n",
    "lims = [0, 0.30]\n",
    "plt.xlim(lims)\n",
    "plt.ylim(lims)\n",
    "\n",
    "# add a diagonal line to the plot\n",
    "_ = plt.plot(lims, lims, linestyle='--', color='gray', alpha=0.5)\n",
    "\n",
    "# display the plot\n",
    "plt.show()\n",
    "\n"
   ]
  },
  {
   "cell_type": "code",
   "execution_count": null,
   "metadata": {},
   "outputs": [],
   "source": []
  }
 ],
 "metadata": {
  "colab": {
   "provenance": []
  },
  "kernelspec": {
   "display_name": "Python 3",
   "language": "python",
   "name": "python3"
  },
  "language_info": {
   "codemirror_mode": {
    "name": "ipython",
    "version": 3
   },
   "file_extension": ".py",
   "mimetype": "text/x-python",
   "name": "python",
   "nbconvert_exporter": "python",
   "pygments_lexer": "ipython3",
   "version": "3.8.8"
  }
 },
 "nbformat": 4,
 "nbformat_minor": 1
}
