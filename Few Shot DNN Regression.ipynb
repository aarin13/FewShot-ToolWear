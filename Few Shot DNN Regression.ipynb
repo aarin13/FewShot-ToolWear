{
 "cells": [
  {
   "cell_type": "code",
   "execution_count": 1,
   "id": "f36036a9",
   "metadata": {},
   "outputs": [],
   "source": [
    "import numpy as np\n",
    "import pandas as pd\n",
    "import matplotlib.pyplot as plt\n",
    "import seaborn as sns\n",
    "import tensorflow as tf"
   ]
  },
  {
   "cell_type": "code",
   "execution_count": 2,
   "id": "22505d17",
   "metadata": {},
   "outputs": [],
   "source": [
    "from sklearn.preprocessing import StandardScaler\n",
    "from sklearn import metrics"
   ]
  },
  {
   "cell_type": "code",
   "execution_count": 3,
   "id": "1dd269c7",
   "metadata": {},
   "outputs": [],
   "source": [
    "from sklearn.model_selection import train_test_split\n",
    "import os\n"
   ]
  },
  {
   "cell_type": "code",
   "execution_count": 4,
   "id": "21e582f5",
   "metadata": {},
   "outputs": [],
   "source": [
    "from tensorflow.keras import layers"
   ]
  },
  {
   "cell_type": "code",
   "execution_count": 5,
   "id": "7ea1dfe9",
   "metadata": {},
   "outputs": [
    {
     "name": "stdout",
     "output_type": "stream",
     "text": [
      "Sat Apr  1 12:20:08 2023       \n",
      "+-----------------------------------------------------------------------------+\n",
      "| NVIDIA-SMI 526.98       Driver Version: 526.98       CUDA Version: 12.0     |\n",
      "|-------------------------------+----------------------+----------------------+\n",
      "| GPU  Name            TCC/WDDM | Bus-Id        Disp.A | Volatile Uncorr. ECC |\n",
      "| Fan  Temp  Perf  Pwr:Usage/Cap|         Memory-Usage | GPU-Util  Compute M. |\n",
      "|                               |                      |               MIG M. |\n",
      "|===============================+======================+======================|\n",
      "|   0  NVIDIA GeForce ... WDDM  | 00000000:01:00.0 Off |                  N/A |\n",
      "| N/A   55C    P0    16W /  N/A |      0MiB /  4096MiB |      0%      Default |\n",
      "|                               |                      |                  N/A |\n",
      "+-------------------------------+----------------------+----------------------+\n",
      "                                                                               \n",
      "+-----------------------------------------------------------------------------+\n",
      "| Processes:                                                                  |\n",
      "|  GPU   GI   CI        PID   Type   Process name                  GPU Memory |\n",
      "|        ID   ID                                                   Usage      |\n",
      "|=============================================================================|\n",
      "|  No running processes found                                                 |\n",
      "+-----------------------------------------------------------------------------+\n"
     ]
    }
   ],
   "source": [
    "!nvidia-smi"
   ]
  },
  {
   "cell_type": "code",
   "execution_count": 6,
   "id": "0bc3141a",
   "metadata": {},
   "outputs": [],
   "source": [
    "w1 = pd.read_csv(\"C:/Users/HP/Desktop/AI_miniProj/stat_W1.csv\")\n",
    "w2 = pd.read_csv(\"C:/Users/HP/Desktop/AI_miniProj/stat_W2.csv\")\n",
    "w3 = pd.read_csv(\"C:/Users/HP/Desktop/AI_miniProj/stat_W3.csv\")\n",
    "w4 = pd.read_csv(\"C:/Users/HP/Desktop/AI_miniProj/stat_W4.csv\")\n",
    "w5 = pd.read_csv(\"C:/Users/HP/Desktop/AI_miniProj/stat_W5.csv\")\n",
    "w6 = pd.read_csv(\"C:/Users/HP/Desktop/AI_miniProj/stat_W6.csv\")\n",
    "w7 = pd.read_csv(\"C:/Users/HP/Desktop/AI_miniProj/stat_W7.csv\")\n",
    "w8 = pd.read_csv(\"C:/Users/HP/Desktop/AI_miniProj/stat_W8.csv\")\n",
    "w9 = pd.read_csv(\"C:/Users/HP/Desktop/AI_miniProj/stat_W9.csv\")"
   ]
  },
  {
   "cell_type": "code",
   "execution_count": 7,
   "id": "b4453127",
   "metadata": {},
   "outputs": [],
   "source": [
    "datasets = [w1, w2, w3, w4, w5, w6, w7, w8, w9]"
   ]
  },
  {
   "cell_type": "code",
   "execution_count": 8,
   "id": "82f59358",
   "metadata": {},
   "outputs": [],
   "source": [
    "for i in datasets:\n",
    "  i.drop(\"Unnamed: 0\", axis = 1, inplace = True)\n",
    "  i.dropna(axis = 0, inplace = True)"
   ]
  },
  {
   "cell_type": "code",
   "execution_count": 9,
   "id": "d6dd5431",
   "metadata": {},
   "outputs": [
    {
     "name": "stdout",
     "output_type": "stream",
     "text": [
      "Columns with only 0 values: [0, 1, 4, 14, 15, 16, 17, 18, 20, 21, 22, 23, 36, 37, 40, 72, 73, 76, 108, 109, 112, 144, 145, 148, 180, 181, 184, 220, 230, 231, 232, 233, 234, 235, 236, 237, 238, 239, 256]\n"
     ]
    }
   ],
   "source": [
    "sets = [w7, w8, w9]\n",
    "test_sets = [w2,w3,w4, w5, w6, w7, w8, w9, w1]\n",
    "data = pd.DataFrame()\n",
    "for i in sets:\n",
    "    data = pd.concat([data, i],ignore_index = True)\n",
    "y_val= data[\"Wear\"]\n",
    "x_data=data.drop(\"Wear\", axis = 1)\n",
    "\n",
    "X_train, X_test,y_train,y_test=train_test_split(x_data,y_val,test_size=0.3,random_state=101)\n",
    "scaler = StandardScaler()\n",
    "\n",
    "X_train = scaler.fit_transform(X_train)\n",
    "X_test = scaler.transform(X_test)\n",
    "\n",
    "X_train = pd.DataFrame(X_train)\n",
    "X_test = pd.DataFrame(X_test)\n",
    "\n",
    "zero_cols = X_train.columns[(X_train == 0).all(axis=0)]\n",
    "print(\"Columns with only 0 values:\", list(zero_cols))\n",
    "\n",
    "X_train.drop(list(zero_cols), axis = 1, inplace = True)\n",
    "\n",
    "X_test.drop(list(zero_cols), axis = 1, inplace = True)\n",
    "X_test = X_test.values"
   ]
  },
  {
   "cell_type": "code",
   "execution_count": 152,
   "id": "a43d5080",
   "metadata": {},
   "outputs": [],
   "source": [
    "# Few Shot "
   ]
  },
  {
   "cell_type": "code",
   "execution_count": 10,
   "id": "23be2689",
   "metadata": {},
   "outputs": [],
   "source": [
    "from keras import callbacks\n",
    "earlystopping = callbacks.EarlyStopping(monitor=\"loss\",\n",
    "                                        mode=\"min\", patience=10,\n",
    "                                        restore_best_weights=True)"
   ]
  },
  {
   "cell_type": "code",
   "execution_count": null,
   "id": "b45324b8",
   "metadata": {},
   "outputs": [],
   "source": []
  },
  {
   "cell_type": "code",
   "execution_count": 11,
   "id": "ef71460c",
   "metadata": {},
   "outputs": [],
   "source": [
    "from tensorflow.keras import regularizers"
   ]
  },
  {
   "cell_type": "code",
   "execution_count": 12,
   "id": "db0b58b0",
   "metadata": {},
   "outputs": [
    {
     "name": "stdout",
     "output_type": "stream",
     "text": [
      "Epoch 1/250\n",
      "111/111 [==============================] - 1s 4ms/step - loss: 0.1971 - mse: 0.0515 - val_loss: 0.1152 - val_mse: 0.0034\n",
      "Epoch 2/250\n",
      "111/111 [==============================] - 0s 2ms/step - loss: 0.1090 - mse: 0.0030 - val_loss: 0.0979 - val_mse: 0.0014\n",
      "Epoch 3/250\n",
      "111/111 [==============================] - 0s 3ms/step - loss: 0.0952 - mse: 0.0018 - val_loss: 0.0897 - val_mse: 8.6472e-04\n",
      "Epoch 4/250\n",
      "111/111 [==============================] - 0s 3ms/step - loss: 0.0875 - mse: 0.0011 - val_loss: 0.0879 - val_mse: 9.7473e-04\n",
      "Epoch 5/250\n",
      "111/111 [==============================] - 0s 3ms/step - loss: 0.0814 - mse: 7.2655e-04 - val_loss: 0.0889 - val_mse: 0.0012\n",
      "Epoch 6/250\n",
      "111/111 [==============================] - 0s 3ms/step - loss: 0.0787 - mse: 6.6473e-04 - val_loss: 0.0752 - val_mse: 5.2460e-04\n",
      "Epoch 7/250\n",
      "111/111 [==============================] - 0s 2ms/step - loss: 0.0732 - mse: 0.0010 - val_loss: 0.0755 - val_mse: 6.4144e-04\n",
      "Epoch 8/250\n",
      "111/111 [==============================] - 0s 3ms/step - loss: 0.0703 - mse: 4.8079e-04 - val_loss: 0.0742 - val_mse: 6.7378e-04\n",
      "Epoch 9/250\n",
      "111/111 [==============================] - 0s 3ms/step - loss: 0.0673 - mse: 5.5676e-04 - val_loss: 0.0653 - val_mse: 4.4939e-04\n",
      "Epoch 10/250\n",
      "111/111 [==============================] - 0s 3ms/step - loss: 0.0628 - mse: 3.7927e-04 - val_loss: 0.0628 - val_mse: 5.1467e-04\n",
      "Epoch 11/250\n",
      "111/111 [==============================] - 0s 3ms/step - loss: 0.0593 - mse: 3.9947e-04 - val_loss: 0.0588 - val_mse: 4.0610e-04\n",
      "Epoch 12/250\n",
      "111/111 [==============================] - 0s 3ms/step - loss: 0.0563 - mse: 3.1758e-04 - val_loss: 0.0559 - val_mse: 3.7878e-04\n",
      "Epoch 13/250\n",
      "111/111 [==============================] - 0s 3ms/step - loss: 0.0546 - mse: 3.5273e-04 - val_loss: 0.0539 - val_mse: 3.7139e-04\n",
      "Epoch 14/250\n",
      "111/111 [==============================] - 0s 3ms/step - loss: 0.0524 - mse: 3.3437e-04 - val_loss: 0.0541 - val_mse: 4.7521e-04\n",
      "Epoch 15/250\n",
      "111/111 [==============================] - 0s 2ms/step - loss: 0.0491 - mse: 2.9478e-04 - val_loss: 0.0505 - val_mse: 3.9635e-04\n",
      "Epoch 16/250\n",
      "111/111 [==============================] - 0s 3ms/step - loss: 0.0476 - mse: 3.1658e-04 - val_loss: 0.0500 - val_mse: 4.3442e-04\n",
      "Epoch 17/250\n",
      "111/111 [==============================] - 0s 3ms/step - loss: 0.0461 - mse: 3.2332e-04 - val_loss: 0.0436 - val_mse: 3.1249e-04\n",
      "Epoch 18/250\n",
      "111/111 [==============================] - 0s 3ms/step - loss: 0.0419 - mse: 2.5114e-04 - val_loss: 0.0424 - val_mse: 3.3208e-04\n",
      "Epoch 19/250\n",
      "111/111 [==============================] - 0s 3ms/step - loss: 0.0401 - mse: 2.6061e-04 - val_loss: 0.0430 - val_mse: 4.1568e-04\n",
      "Epoch 20/250\n",
      "111/111 [==============================] - 0s 3ms/step - loss: 0.0372 - mse: 2.3191e-04 - val_loss: 0.0382 - val_mse: 3.6609e-04\n",
      "Epoch 21/250\n",
      "111/111 [==============================] - 0s 3ms/step - loss: 0.0358 - mse: 2.4121e-04 - val_loss: 0.0371 - val_mse: 3.7290e-04\n",
      "Epoch 22/250\n",
      "111/111 [==============================] - 0s 3ms/step - loss: 0.0347 - mse: 2.5669e-04 - val_loss: 0.0354 - val_mse: 3.6840e-04\n",
      "Epoch 23/250\n",
      "111/111 [==============================] - 0s 3ms/step - loss: 0.0325 - mse: 2.3409e-04 - val_loss: 0.0348 - val_mse: 3.8471e-04\n",
      "Epoch 24/250\n",
      "111/111 [==============================] - 0s 3ms/step - loss: 0.0308 - mse: 2.1697e-04 - val_loss: 0.0318 - val_mse: 3.2956e-04\n",
      "Epoch 25/250\n",
      "111/111 [==============================] - 0s 3ms/step - loss: 0.0300 - mse: 2.3350e-04 - val_loss: 0.0303 - val_mse: 3.3744e-04\n",
      "Epoch 26/250\n",
      "111/111 [==============================] - 0s 3ms/step - loss: 0.0278 - mse: 2.2507e-04 - val_loss: 0.0298 - val_mse: 3.5845e-04\n",
      "Epoch 27/250\n",
      "111/111 [==============================] - 0s 3ms/step - loss: 0.0266 - mse: 2.1451e-04 - val_loss: 0.0273 - val_mse: 2.9379e-04\n",
      "Epoch 28/250\n",
      "111/111 [==============================] - 0s 3ms/step - loss: 0.0252 - mse: 2.1177e-04 - val_loss: 0.0281 - val_mse: 3.8031e-04\n",
      "Epoch 29/250\n",
      "111/111 [==============================] - 0s 3ms/step - loss: 0.0244 - mse: 2.3478e-04 - val_loss: 0.0263 - val_mse: 3.0274e-04\n",
      "Epoch 30/250\n",
      "111/111 [==============================] - 0s 4ms/step - loss: 0.0234 - mse: 2.1554e-04 - val_loss: 0.0244 - val_mse: 2.9076e-04\n",
      "Epoch 31/250\n",
      "111/111 [==============================] - 0s 3ms/step - loss: 0.0221 - mse: 2.1562e-04 - val_loss: 0.0242 - val_mse: 3.1835e-04\n",
      "Epoch 32/250\n",
      "111/111 [==============================] - 0s 3ms/step - loss: 0.0210 - mse: 2.0423e-04 - val_loss: 0.0269 - val_mse: 4.9320e-04\n",
      "Epoch 33/250\n",
      "111/111 [==============================] - 0s 3ms/step - loss: 0.0208 - mse: 2.1848e-04 - val_loss: 0.0233 - val_mse: 4.0006e-04\n",
      "Epoch 34/250\n",
      "111/111 [==============================] - 0s 2ms/step - loss: 0.0203 - mse: 2.3159e-04 - val_loss: 0.0207 - val_mse: 2.9855e-04\n",
      "Epoch 35/250\n",
      "111/111 [==============================] - 0s 3ms/step - loss: 0.0185 - mse: 1.9716e-04 - val_loss: 0.0210 - val_mse: 2.8755e-04\n",
      "Epoch 36/250\n",
      "111/111 [==============================] - 0s 3ms/step - loss: 0.0180 - mse: 2.0174e-04 - val_loss: 0.0197 - val_mse: 3.0868e-04\n",
      "Epoch 37/250\n",
      "111/111 [==============================] - 0s 3ms/step - loss: 0.0174 - mse: 2.0971e-04 - val_loss: 0.0214 - val_mse: 3.9727e-04\n",
      "Epoch 38/250\n",
      "111/111 [==============================] - 0s 3ms/step - loss: 0.0167 - mse: 1.9966e-04 - val_loss: 0.0183 - val_mse: 3.1397e-04\n",
      "Epoch 39/250\n",
      "111/111 [==============================] - 0s 2ms/step - loss: 0.0157 - mse: 1.9337e-04 - val_loss: 0.0177 - val_mse: 2.9868e-04\n",
      "Epoch 40/250\n",
      "111/111 [==============================] - 0s 2ms/step - loss: 0.0162 - mse: 2.2009e-04 - val_loss: 0.0180 - val_mse: 3.8981e-04\n",
      "Epoch 41/250\n",
      "111/111 [==============================] - 0s 2ms/step - loss: 0.0152 - mse: 2.0328e-04 - val_loss: 0.0180 - val_mse: 3.4543e-04\n",
      "Epoch 42/250\n",
      "111/111 [==============================] - 0s 3ms/step - loss: 0.0142 - mse: 1.8755e-04 - val_loss: 0.0167 - val_mse: 2.8165e-04\n",
      "Epoch 43/250\n",
      "111/111 [==============================] - 0s 3ms/step - loss: 0.0140 - mse: 1.8677e-04 - val_loss: 0.0172 - val_mse: 3.2616e-04\n",
      "Epoch 44/250\n",
      "111/111 [==============================] - 0s 3ms/step - loss: 0.0137 - mse: 1.9632e-04 - val_loss: 0.0204 - val_mse: 4.7592e-04\n",
      "Epoch 45/250\n",
      "111/111 [==============================] - 0s 3ms/step - loss: 0.0132 - mse: 1.9332e-04 - val_loss: 0.0169 - val_mse: 3.4162e-04\n",
      "Epoch 46/250\n",
      "111/111 [==============================] - 0s 2ms/step - loss: 0.0131 - mse: 1.8940e-04 - val_loss: 0.0152 - val_mse: 3.1228e-04\n",
      "Epoch 47/250\n",
      "111/111 [==============================] - 0s 2ms/step - loss: 0.0130 - mse: 1.9698e-04 - val_loss: 0.0175 - val_mse: 3.3836e-04\n",
      "Epoch 48/250\n",
      "111/111 [==============================] - 0s 2ms/step - loss: 0.0130 - mse: 1.9762e-04 - val_loss: 0.0157 - val_mse: 3.2346e-04\n",
      "Epoch 49/250\n",
      "111/111 [==============================] - 0s 3ms/step - loss: 0.0129 - mse: 1.9469e-04 - val_loss: 0.0162 - val_mse: 4.2174e-04\n",
      "Epoch 50/250\n",
      "111/111 [==============================] - 0s 3ms/step - loss: 0.0128 - mse: 2.0495e-04 - val_loss: 0.0149 - val_mse: 3.1273e-04\n",
      "Epoch 51/250\n",
      "111/111 [==============================] - 0s 3ms/step - loss: 0.0123 - mse: 1.9664e-04 - val_loss: 0.0147 - val_mse: 3.1887e-04\n",
      "Epoch 52/250\n",
      "111/111 [==============================] - 0s 3ms/step - loss: 0.0117 - mse: 1.8784e-04 - val_loss: 0.0141 - val_mse: 3.0224e-04\n",
      "Epoch 53/250\n",
      "111/111 [==============================] - 0s 2ms/step - loss: 0.0111 - mse: 1.7227e-04 - val_loss: 0.0147 - val_mse: 3.0876e-04\n",
      "Epoch 54/250\n",
      "111/111 [==============================] - 0s 3ms/step - loss: 0.0112 - mse: 1.7859e-04 - val_loss: 0.0141 - val_mse: 3.2696e-04\n",
      "Epoch 55/250\n",
      "111/111 [==============================] - 0s 3ms/step - loss: 0.0114 - mse: 1.9331e-04 - val_loss: 0.0142 - val_mse: 3.2986e-04\n",
      "Epoch 56/250\n",
      "111/111 [==============================] - 0s 3ms/step - loss: 0.0111 - mse: 2.0271e-04 - val_loss: 0.0150 - val_mse: 3.4500e-04\n",
      "Epoch 57/250\n",
      "111/111 [==============================] - 0s 3ms/step - loss: 0.0123 - mse: 2.0646e-04 - val_loss: 0.0127 - val_mse: 2.7144e-04\n",
      "Epoch 58/250\n",
      "111/111 [==============================] - 0s 3ms/step - loss: 0.0108 - mse: 1.8418e-04 - val_loss: 0.0130 - val_mse: 3.0068e-04\n"
     ]
    },
    {
     "name": "stdout",
     "output_type": "stream",
     "text": [
      "Epoch 59/250\n",
      "111/111 [==============================] - 0s 3ms/step - loss: 0.0106 - mse: 1.8222e-04 - val_loss: 0.0127 - val_mse: 2.7109e-04\n",
      "Epoch 60/250\n",
      "111/111 [==============================] - 0s 3ms/step - loss: 0.0115 - mse: 2.0923e-04 - val_loss: 0.0140 - val_mse: 2.7944e-04\n",
      "Epoch 61/250\n",
      "111/111 [==============================] - 0s 3ms/step - loss: 0.0105 - mse: 1.8197e-04 - val_loss: 0.0131 - val_mse: 3.0239e-04\n",
      "Epoch 62/250\n",
      "111/111 [==============================] - 0s 3ms/step - loss: 0.0107 - mse: 1.8976e-04 - val_loss: 0.0134 - val_mse: 3.2002e-04\n",
      "Epoch 63/250\n",
      "111/111 [==============================] - 0s 3ms/step - loss: 0.0105 - mse: 1.8103e-04 - val_loss: 0.0127 - val_mse: 2.8207e-04\n",
      "Epoch 64/250\n",
      "111/111 [==============================] - 0s 2ms/step - loss: 0.0105 - mse: 1.8838e-04 - val_loss: 0.0136 - val_mse: 2.9442e-04\n",
      "Epoch 65/250\n",
      "111/111 [==============================] - 0s 3ms/step - loss: 0.0107 - mse: 1.9098e-04 - val_loss: 0.0131 - val_mse: 3.1445e-04\n",
      "Epoch 66/250\n",
      "111/111 [==============================] - 0s 3ms/step - loss: 0.0110 - mse: 2.0236e-04 - val_loss: 0.0139 - val_mse: 3.3414e-04\n",
      "Epoch 67/250\n",
      "111/111 [==============================] - 0s 3ms/step - loss: 0.0108 - mse: 1.9369e-04 - val_loss: 0.0129 - val_mse: 2.9157e-04\n",
      "Epoch 68/250\n",
      "111/111 [==============================] - 0s 3ms/step - loss: 0.0106 - mse: 1.9080e-04 - val_loss: 0.0154 - val_mse: 3.5680e-04\n",
      "Epoch 69/250\n",
      "111/111 [==============================] - 0s 3ms/step - loss: 0.0098 - mse: 1.7874e-04 - val_loss: 0.0126 - val_mse: 3.1871e-04\n",
      "Epoch 70/250\n",
      "111/111 [==============================] - 0s 2ms/step - loss: 0.0095 - mse: 1.7280e-04 - val_loss: 0.0140 - val_mse: 3.2835e-04\n",
      "Epoch 71/250\n",
      "111/111 [==============================] - 0s 3ms/step - loss: 0.0102 - mse: 1.9099e-04 - val_loss: 0.0129 - val_mse: 3.2689e-04\n",
      "Epoch 72/250\n",
      "111/111 [==============================] - 0s 3ms/step - loss: 0.0099 - mse: 1.8286e-04 - val_loss: 0.0121 - val_mse: 2.8420e-04\n",
      "Epoch 73/250\n",
      "111/111 [==============================] - 0s 2ms/step - loss: 0.0093 - mse: 1.7130e-04 - val_loss: 0.0122 - val_mse: 3.0222e-04\n",
      "Epoch 74/250\n",
      "111/111 [==============================] - 0s 3ms/step - loss: 0.0095 - mse: 1.7606e-04 - val_loss: 0.0126 - val_mse: 3.0520e-04\n",
      "Epoch 75/250\n",
      "111/111 [==============================] - 0s 3ms/step - loss: 0.0101 - mse: 1.8471e-04 - val_loss: 0.0138 - val_mse: 3.2835e-04\n",
      "Epoch 76/250\n",
      "111/111 [==============================] - 0s 3ms/step - loss: 0.0092 - mse: 1.6613e-04 - val_loss: 0.0134 - val_mse: 3.2896e-04\n",
      "Epoch 77/250\n",
      "111/111 [==============================] - 0s 3ms/step - loss: 0.0096 - mse: 1.7520e-04 - val_loss: 0.0133 - val_mse: 3.3716e-04\n",
      "Epoch 78/250\n",
      "111/111 [==============================] - 0s 3ms/step - loss: 0.0090 - mse: 1.6501e-04 - val_loss: 0.0122 - val_mse: 2.9844e-04\n",
      "Epoch 79/250\n",
      "111/111 [==============================] - 0s 3ms/step - loss: 0.0093 - mse: 1.7599e-04 - val_loss: 0.0133 - val_mse: 3.3614e-04\n",
      "Epoch 80/250\n",
      "111/111 [==============================] - 0s 2ms/step - loss: 0.0095 - mse: 1.8344e-04 - val_loss: 0.0140 - val_mse: 3.8493e-04\n",
      "Epoch 81/250\n",
      "111/111 [==============================] - 0s 3ms/step - loss: 0.0094 - mse: 1.7854e-04 - val_loss: 0.0129 - val_mse: 3.6226e-04\n",
      "Epoch 82/250\n",
      "111/111 [==============================] - 0s 3ms/step - loss: 0.0095 - mse: 1.8204e-04 - val_loss: 0.0129 - val_mse: 3.0993e-04\n",
      "Epoch 83/250\n",
      "111/111 [==============================] - 0s 3ms/step - loss: 0.0092 - mse: 1.7206e-04 - val_loss: 0.0123 - val_mse: 3.2542e-04\n",
      "Epoch 84/250\n",
      "111/111 [==============================] - 0s 3ms/step - loss: 0.0090 - mse: 1.7806e-04 - val_loss: 0.0124 - val_mse: 3.3576e-04\n",
      "Epoch 85/250\n",
      "111/111 [==============================] - 0s 3ms/step - loss: 0.0086 - mse: 1.6617e-04 - val_loss: 0.0126 - val_mse: 3.0339e-04\n",
      "Epoch 86/250\n",
      "111/111 [==============================] - 0s 3ms/step - loss: 0.0089 - mse: 1.7137e-04 - val_loss: 0.0114 - val_mse: 2.4513e-04\n",
      "Epoch 87/250\n",
      "111/111 [==============================] - 0s 3ms/step - loss: 0.0096 - mse: 1.8597e-04 - val_loss: 0.0120 - val_mse: 2.9920e-04\n",
      "Epoch 88/250\n",
      "111/111 [==============================] - 0s 3ms/step - loss: 0.0093 - mse: 1.7722e-04 - val_loss: 0.0120 - val_mse: 3.2219e-04\n",
      "Epoch 89/250\n",
      "111/111 [==============================] - 0s 3ms/step - loss: 0.0090 - mse: 1.7062e-04 - val_loss: 0.0123 - val_mse: 3.2835e-04\n",
      "Epoch 90/250\n",
      "111/111 [==============================] - 0s 4ms/step - loss: 0.0090 - mse: 1.7466e-04 - val_loss: 0.0126 - val_mse: 3.2233e-04\n",
      "Epoch 91/250\n",
      "111/111 [==============================] - 0s 3ms/step - loss: 0.0092 - mse: 1.7642e-04 - val_loss: 0.0121 - val_mse: 3.0990e-04\n",
      "Epoch 92/250\n",
      "111/111 [==============================] - 0s 2ms/step - loss: 0.0089 - mse: 1.6459e-04 - val_loss: 0.0134 - val_mse: 3.1518e-04\n",
      "Epoch 93/250\n",
      "111/111 [==============================] - 0s 3ms/step - loss: 0.0093 - mse: 1.8671e-04 - val_loss: 0.0122 - val_mse: 3.2141e-04\n",
      "Epoch 94/250\n",
      "111/111 [==============================] - 0s 3ms/step - loss: 0.0093 - mse: 1.8089e-04 - val_loss: 0.0119 - val_mse: 2.9784e-04\n",
      "Epoch 95/250\n",
      "111/111 [==============================] - 0s 3ms/step - loss: 0.0094 - mse: 1.8431e-04 - val_loss: 0.0120 - val_mse: 3.1968e-04\n"
     ]
    }
   ],
   "source": [
    "tf.random.set_seed(42)  #first we set random seed\n",
    "model = tf.keras.Sequential([\n",
    "                             layers.Dense(256, activation='relu', kernel_regularizer=regularizers.l2(0.0001)),\n",
    "                             layers.Dense(256, activation='relu', kernel_regularizer=regularizers.l2(0.0001)),\n",
    "                             layers.Dense(256, activation='relu', kernel_regularizer=regularizers.l2(0.0001)),\n",
    "                             layers.Dense(1, activation='linear')\n",
    "])\n",
    "model.compile(loss = tf.keras.losses.mae, #mae stands for mean absolute error\n",
    "              optimizer = tf.keras.optimizers.Adam(learning_rate = 0.001), \n",
    "              metrics = ['mse'])\n",
    "model.fit( X_train.values, y_train, epochs = 250, batch_size=12, validation_split=0.2, callbacks = earlystopping)\n",
    "model.build(input_shape=(None, 32))"
   ]
  },
  {
   "cell_type": "code",
   "execution_count": 13,
   "id": "952a3875",
   "metadata": {},
   "outputs": [
    {
     "name": "stderr",
     "output_type": "stream",
     "text": [
      "WARNING:absl:Found untraced functions such as _update_step_xla while saving (showing 1 of 1). These functions will not be directly callable after loading.\n"
     ]
    },
    {
     "name": "stdout",
     "output_type": "stream",
     "text": [
      "INFO:tensorflow:Assets written to: ./fewmodel\\assets\n"
     ]
    },
    {
     "name": "stderr",
     "output_type": "stream",
     "text": [
      "INFO:tensorflow:Assets written to: ./fewmodel\\assets\n"
     ]
    }
   ],
   "source": [
    "model.save('./fewmodel')"
   ]
  },
  {
   "cell_type": "code",
   "execution_count": 14,
   "id": "27b6daab",
   "metadata": {},
   "outputs": [
    {
     "name": "stdout",
     "output_type": "stream",
     "text": [
      "Model: \"sequential\"\n",
      "_________________________________________________________________\n",
      " Layer (type)                Output Shape              Param #   \n",
      "=================================================================\n",
      " dense (Dense)               (None, 256)               64000     \n",
      "                                                                 \n",
      " dense_1 (Dense)             (None, 256)               65792     \n",
      "                                                                 \n",
      " dense_2 (Dense)             (None, 256)               65792     \n",
      "                                                                 \n",
      " dense_3 (Dense)             (None, 1)                 257       \n",
      "                                                                 \n",
      "=================================================================\n",
      "Total params: 195,841\n",
      "Trainable params: 195,841\n",
      "Non-trainable params: 0\n",
      "_________________________________________________________________\n"
     ]
    }
   ],
   "source": [
    "model.summary()\n"
   ]
  },
  {
   "cell_type": "code",
   "execution_count": 15,
   "id": "fb5a72fa",
   "metadata": {},
   "outputs": [
    {
     "name": "stdout",
     "output_type": "stream",
     "text": [
      "52/52 [==============================] - 0s 912us/step\n"
     ]
    },
    {
     "data": {
      "text/plain": [
       "0.9521650013783208"
      ]
     },
     "execution_count": 15,
     "metadata": {},
     "output_type": "execute_result"
    }
   ],
   "source": [
    "train_pred = model.predict(X_train)\n",
    "metrics.r2_score(y_train, train_pred)"
   ]
  },
  {
   "cell_type": "code",
   "execution_count": 16,
   "id": "e03846b6",
   "metadata": {},
   "outputs": [
    {
     "name": "stdout",
     "output_type": "stream",
     "text": [
      "23/23 [==============================] - 0s 1ms/step\n"
     ]
    },
    {
     "data": {
      "text/plain": [
       "0.9164709347368791"
      ]
     },
     "execution_count": 16,
     "metadata": {},
     "output_type": "execute_result"
    }
   ],
   "source": [
    "\n",
    "pred = model.predict(X_test)\n",
    "metrics.r2_score(y_test, pred)"
   ]
  },
  {
   "cell_type": "code",
   "execution_count": 17,
   "id": "9d3dc5eb",
   "metadata": {},
   "outputs": [
    {
     "name": "stdout",
     "output_type": "stream",
     "text": [
      "12/12 [==============================] - 0s 2ms/step\n",
      "9/9 [==============================] - 0s 2ms/step\n",
      "20/20 [==============================] - 0s 1ms/step\n",
      "24/24 [==============================] - 0s 2ms/step\n",
      "9/9 [==============================] - 0s 1ms/step\n",
      "6/6 [==============================] - 0s 1ms/step\n",
      "33/33 [==============================] - 0s 1000us/step\n",
      "37/37 [==============================] - 0s 944us/step\n",
      "19/19 [==============================] - 0s 1ms/step\n"
     ]
    }
   ],
   "source": [
    "scores = []\n",
    "for i in range(len(test_sets)):\n",
    "    test_X = test_sets[i].drop(\"Wear\", axis = 1)\n",
    "    test_Y = test_sets[i][\"Wear\"]\n",
    "    scaler1 = StandardScaler()\n",
    "    test_X = scaler1.fit_transform(test_X)\n",
    "    test_X = pd.DataFrame(test_X)\n",
    "    test_X.drop(list(zero_cols), axis = 1, inplace = True)\n",
    "    testing_pred = model.predict(test_X)\n",
    "    score = metrics.r2_score(test_Y, testing_pred)\n",
    "    scores.append([i, score])"
   ]
  },
  {
   "cell_type": "code",
   "execution_count": 186,
   "id": "e8c38a69",
   "metadata": {},
   "outputs": [
    {
     "data": {
      "text/plain": [
       "[[0, -0.32736168045513425],\n",
       " [1, 0.32223690886248924],\n",
       " [2, -0.14309510838737838],\n",
       " [3, -0.20281415554682125],\n",
       " [4, -0.9429863088183605],\n",
       " [5, -0.27199568159435716],\n",
       " [6, 0.4503472278401104],\n",
       " [7, 0.42663729405581086],\n",
       " [8, -1.083062924434608]]"
      ]
     },
     "execution_count": 186,
     "metadata": {},
     "output_type": "execute_result"
    }
   ],
   "source": [
    "scores"
   ]
  },
  {
   "cell_type": "code",
   "execution_count": 48,
   "id": "5d3c315d",
   "metadata": {},
   "outputs": [],
   "source": [
    "# model has been trained on a few examples, and has learned weights.\n",
    "#We will now be testing on the remaining data, to evaluate its accuracy"
   ]
  },
  {
   "cell_type": "code",
   "execution_count": 187,
   "id": "49fa80fb",
   "metadata": {},
   "outputs": [
    {
     "name": "stdout",
     "output_type": "stream",
     "text": [
      "Columns with only 0 values: [0, 1, 8, 12, 13, 14, 15, 16, 17, 18, 20, 21, 22, 23, 36, 37, 44, 48, 49, 80, 84, 85, 108, 109, 116, 120, 121, 144, 145, 152, 156, 157, 180, 181, 188, 192, 193, 224, 228, 229, 230, 231, 232, 233, 234, 235, 236, 237, 238, 239, 260, 264, 265]\n"
     ]
    }
   ],
   "source": [
    "sets = [w1, w2, w3]\n",
    "test_sets = [w2,w3,w4, w5, w6, w7, w8, w9, w1]\n",
    "data = pd.DataFrame()\n",
    "for i in sets:\n",
    "    data = pd.concat([data, i],ignore_index = True)\n",
    "y_val= data[\"Wear\"]\n",
    "x_data=data.drop(\"Wear\", axis = 1)\n",
    "\n",
    "X_train, X_test,y_train,y_test=train_test_split(x_data,y_val,test_size=0.3,random_state=101)\n",
    "scaler = StandardScaler()\n",
    "\n",
    "X_train = scaler.fit_transform(X_train)\n",
    "X_test = scaler.transform(X_test)\n",
    "\n",
    "X_train = pd.DataFrame(X_train)\n",
    "X_test = pd.DataFrame(X_test)\n",
    "\n",
    "zero_cols = X_train.columns[(X_train == 0).all(axis=0)]\n",
    "print(\"Columns with only 0 values:\", list(zero_cols))\n",
    "\n",
    "X_train.drop(list(zero_cols), axis = 1, inplace = True)\n",
    "\n",
    "X_test.drop(list(zero_cols), axis = 1, inplace = True)\n",
    "X_test = X_test.values"
   ]
  },
  {
   "cell_type": "code",
   "execution_count": 18,
   "id": "249d21d5",
   "metadata": {},
   "outputs": [
    {
     "ename": "ValueError",
     "evalue": "Weights for model sequential_1 have not yet been created. Weights are created when the Model is first called on inputs or `build()` is called with an `input_shape`.",
     "output_type": "error",
     "traceback": [
      "\u001b[1;31m---------------------------------------------------------------------------\u001b[0m",
      "\u001b[1;31mValueError\u001b[0m                                Traceback (most recent call last)",
      "\u001b[1;32m<ipython-input-18-aaf6d4e3b60d>\u001b[0m in \u001b[0;36m<module>\u001b[1;34m\u001b[0m\n\u001b[0;32m      8\u001b[0m \u001b[0mmodel\u001b[0m \u001b[1;33m=\u001b[0m \u001b[0mtf\u001b[0m\u001b[1;33m.\u001b[0m\u001b[0mkeras\u001b[0m\u001b[1;33m.\u001b[0m\u001b[0mmodels\u001b[0m\u001b[1;33m.\u001b[0m\u001b[0mload_model\u001b[0m\u001b[1;33m(\u001b[0m\u001b[1;34m'./model'\u001b[0m\u001b[1;33m)\u001b[0m\u001b[1;33m\u001b[0m\u001b[1;33m\u001b[0m\u001b[0m\n\u001b[0;32m      9\u001b[0m \u001b[0mweights\u001b[0m \u001b[1;33m=\u001b[0m \u001b[0mmodel\u001b[0m\u001b[1;33m.\u001b[0m\u001b[0mget_weights\u001b[0m\u001b[1;33m(\u001b[0m\u001b[1;33m)\u001b[0m\u001b[1;33m\u001b[0m\u001b[1;33m\u001b[0m\u001b[0m\n\u001b[1;32m---> 10\u001b[1;33m \u001b[0mmodel1\u001b[0m\u001b[1;33m.\u001b[0m\u001b[0mset_weights\u001b[0m\u001b[1;33m(\u001b[0m\u001b[0mweights\u001b[0m\u001b[1;33m)\u001b[0m\u001b[1;33m\u001b[0m\u001b[1;33m\u001b[0m\u001b[0m\n\u001b[0m\u001b[0;32m     11\u001b[0m model1.compile(loss = tf.keras.losses.mae, #mae stands for mean absolute error\n\u001b[0;32m     12\u001b[0m               \u001b[0moptimizer\u001b[0m \u001b[1;33m=\u001b[0m \u001b[0mtf\u001b[0m\u001b[1;33m.\u001b[0m\u001b[0mkeras\u001b[0m\u001b[1;33m.\u001b[0m\u001b[0moptimizers\u001b[0m\u001b[1;33m.\u001b[0m\u001b[0mAdam\u001b[0m\u001b[1;33m(\u001b[0m\u001b[0mlearning_rate\u001b[0m \u001b[1;33m=\u001b[0m \u001b[1;36m0.001\u001b[0m\u001b[1;33m)\u001b[0m\u001b[1;33m,\u001b[0m\u001b[1;33m\u001b[0m\u001b[1;33m\u001b[0m\u001b[0m\n",
      "\u001b[1;32m~\\anaconda3\\lib\\site-packages\\keras\\engine\\base_layer.py\u001b[0m in \u001b[0;36mset_weights\u001b[1;34m(self, weights)\u001b[0m\n\u001b[0;32m   1772\u001b[0m             \u001b[0mlayer\u001b[0m\u001b[0;31m'\u001b[0m\u001b[0ms\u001b[0m \u001b[0mspecifications\u001b[0m\u001b[1;33m.\u001b[0m\u001b[1;33m\u001b[0m\u001b[1;33m\u001b[0m\u001b[0m\n\u001b[0;32m   1773\u001b[0m         \"\"\"\n\u001b[1;32m-> 1774\u001b[1;33m         \u001b[0mparams\u001b[0m \u001b[1;33m=\u001b[0m \u001b[0mself\u001b[0m\u001b[1;33m.\u001b[0m\u001b[0mweights\u001b[0m\u001b[1;33m\u001b[0m\u001b[1;33m\u001b[0m\u001b[0m\n\u001b[0m\u001b[0;32m   1775\u001b[0m \u001b[1;33m\u001b[0m\u001b[0m\n\u001b[0;32m   1776\u001b[0m         \u001b[0mexpected_num_weights\u001b[0m \u001b[1;33m=\u001b[0m \u001b[1;36m0\u001b[0m\u001b[1;33m\u001b[0m\u001b[1;33m\u001b[0m\u001b[0m\n",
      "\u001b[1;32m~\\anaconda3\\lib\\site-packages\\keras\\engine\\training.py\u001b[0m in \u001b[0;36mweights\u001b[1;34m(self)\u001b[0m\n\u001b[0;32m   3239\u001b[0m           \u001b[0mA\u001b[0m \u001b[0mlist\u001b[0m \u001b[0mof\u001b[0m \u001b[0mvariables\u001b[0m\u001b[1;33m.\u001b[0m\u001b[1;33m\u001b[0m\u001b[1;33m\u001b[0m\u001b[0m\n\u001b[0;32m   3240\u001b[0m         \"\"\"\n\u001b[1;32m-> 3241\u001b[1;33m         \u001b[1;32mreturn\u001b[0m \u001b[0mself\u001b[0m\u001b[1;33m.\u001b[0m\u001b[0m_dedup_weights\u001b[0m\u001b[1;33m(\u001b[0m\u001b[0mself\u001b[0m\u001b[1;33m.\u001b[0m\u001b[0m_undeduplicated_weights\u001b[0m\u001b[1;33m)\u001b[0m\u001b[1;33m\u001b[0m\u001b[1;33m\u001b[0m\u001b[0m\n\u001b[0m\u001b[0;32m   3242\u001b[0m \u001b[1;33m\u001b[0m\u001b[0m\n\u001b[0;32m   3243\u001b[0m     \u001b[1;33m@\u001b[0m\u001b[0mproperty\u001b[0m\u001b[1;33m\u001b[0m\u001b[1;33m\u001b[0m\u001b[0m\n",
      "\u001b[1;32m~\\anaconda3\\lib\\site-packages\\keras\\engine\\training.py\u001b[0m in \u001b[0;36m_undeduplicated_weights\u001b[1;34m(self)\u001b[0m\n\u001b[0;32m   3244\u001b[0m     \u001b[1;32mdef\u001b[0m \u001b[0m_undeduplicated_weights\u001b[0m\u001b[1;33m(\u001b[0m\u001b[0mself\u001b[0m\u001b[1;33m)\u001b[0m\u001b[1;33m:\u001b[0m\u001b[1;33m\u001b[0m\u001b[1;33m\u001b[0m\u001b[0m\n\u001b[0;32m   3245\u001b[0m         \u001b[1;34m\"\"\"Returns the undeduplicated list of all layer variables/weights.\"\"\"\u001b[0m\u001b[1;33m\u001b[0m\u001b[1;33m\u001b[0m\u001b[0m\n\u001b[1;32m-> 3246\u001b[1;33m         \u001b[0mself\u001b[0m\u001b[1;33m.\u001b[0m\u001b[0m_assert_weights_created\u001b[0m\u001b[1;33m(\u001b[0m\u001b[1;33m)\u001b[0m\u001b[1;33m\u001b[0m\u001b[1;33m\u001b[0m\u001b[0m\n\u001b[0m\u001b[0;32m   3247\u001b[0m         \u001b[0mweights\u001b[0m \u001b[1;33m=\u001b[0m \u001b[1;33m[\u001b[0m\u001b[1;33m]\u001b[0m\u001b[1;33m\u001b[0m\u001b[1;33m\u001b[0m\u001b[0m\n\u001b[0;32m   3248\u001b[0m         \u001b[1;32mfor\u001b[0m \u001b[0mlayer\u001b[0m \u001b[1;32min\u001b[0m \u001b[0mself\u001b[0m\u001b[1;33m.\u001b[0m\u001b[0m_self_tracked_trackables\u001b[0m\u001b[1;33m:\u001b[0m\u001b[1;33m\u001b[0m\u001b[1;33m\u001b[0m\u001b[0m\n",
      "\u001b[1;32m~\\anaconda3\\lib\\site-packages\\keras\\engine\\sequential.py\u001b[0m in \u001b[0;36m_assert_weights_created\u001b[1;34m(self)\u001b[0m\n\u001b[0;32m    524\u001b[0m         \u001b[1;31m# When the graph has not been initialized, use the Model's\u001b[0m\u001b[1;33m\u001b[0m\u001b[1;33m\u001b[0m\u001b[1;33m\u001b[0m\u001b[0m\n\u001b[0;32m    525\u001b[0m         \u001b[1;31m# implementation to to check if the weights has been created.\u001b[0m\u001b[1;33m\u001b[0m\u001b[1;33m\u001b[0m\u001b[1;33m\u001b[0m\u001b[0m\n\u001b[1;32m--> 526\u001b[1;33m         \u001b[0msuper\u001b[0m\u001b[1;33m(\u001b[0m\u001b[0mfunctional\u001b[0m\u001b[1;33m.\u001b[0m\u001b[0mFunctional\u001b[0m\u001b[1;33m,\u001b[0m \u001b[0mself\u001b[0m\u001b[1;33m)\u001b[0m\u001b[1;33m.\u001b[0m\u001b[0m_assert_weights_created\u001b[0m\u001b[1;33m(\u001b[0m\u001b[1;33m)\u001b[0m\u001b[1;33m\u001b[0m\u001b[1;33m\u001b[0m\u001b[0m\n\u001b[0m\u001b[0;32m    527\u001b[0m \u001b[1;33m\u001b[0m\u001b[0m\n\u001b[0;32m    528\u001b[0m \u001b[1;33m\u001b[0m\u001b[0m\n",
      "\u001b[1;32m~\\anaconda3\\lib\\site-packages\\keras\\engine\\training.py\u001b[0m in \u001b[0;36m_assert_weights_created\u001b[1;34m(self)\u001b[0m\n\u001b[0;32m   3543\u001b[0m             \u001b[1;31m# Also make sure to exclude Model class itself which has build()\u001b[0m\u001b[1;33m\u001b[0m\u001b[1;33m\u001b[0m\u001b[1;33m\u001b[0m\u001b[0m\n\u001b[0;32m   3544\u001b[0m             \u001b[1;31m# defined.\u001b[0m\u001b[1;33m\u001b[0m\u001b[1;33m\u001b[0m\u001b[1;33m\u001b[0m\u001b[0m\n\u001b[1;32m-> 3545\u001b[1;33m             raise ValueError(\n\u001b[0m\u001b[0;32m   3546\u001b[0m                 \u001b[1;34mf\"Weights for model {self.name} have not yet been \"\u001b[0m\u001b[1;33m\u001b[0m\u001b[1;33m\u001b[0m\u001b[0m\n\u001b[0;32m   3547\u001b[0m                 \u001b[1;34m\"created. \"\u001b[0m\u001b[1;33m\u001b[0m\u001b[1;33m\u001b[0m\u001b[0m\n",
      "\u001b[1;31mValueError\u001b[0m: Weights for model sequential_1 have not yet been created. Weights are created when the Model is first called on inputs or `build()` is called with an `input_shape`."
     ]
    }
   ],
   "source": [
    "tf.random.set_seed(42)  #first we set random seed\n",
    "model1 = tf.keras.Sequential([\n",
    "                             layers.Dense(256, activation='relu', kernel_regularizer=regularizers.l2(0.0001)),\n",
    "                             layers.Dense(256, activation='relu', kernel_regularizer=regularizers.l2(0.0001)),\n",
    "                             layers.Dense(256, activation='relu', kernel_regularizer=regularizers.l2(0.0001)),\n",
    "                             layers.Dense(1, activation='linear')\n",
    "])\n",
    "model = tf.keras.models.load_model('./model')\n",
    "weights = model.get_weights()\n",
    "model1.set_weights(weights)\n",
    "model1.compile(loss = tf.keras.losses.mae, #mae stands for mean absolute error\n",
    "              optimizer = tf.keras.optimizers.Adam(learning_rate = 0.001), \n",
    "              metrics = ['mse'])\n",
    "\n",
    "model1.fit( X_train.reshape(X_train.shape[0], 1652, 249), y_train, epochs = 250, batch_size=12, validation_split=0.2, callbacks = earlystopping)"
   ]
  },
  {
   "cell_type": "code",
   "execution_count": 134,
   "id": "55c20c43",
   "metadata": {},
   "outputs": [
    {
     "name": "stdout",
     "output_type": "stream",
     "text": [
      "52/52 [==============================] - 0s 3ms/step\n"
     ]
    },
    {
     "data": {
      "text/plain": [
       "0.951456459450987"
      ]
     },
     "execution_count": 134,
     "metadata": {},
     "output_type": "execute_result"
    }
   ],
   "source": [
    "train_pred = model1.predict(X_train)\n",
    "metrics.r2_score(y_train, train_pred)"
   ]
  },
  {
   "cell_type": "code",
   "execution_count": 135,
   "id": "c52391ea",
   "metadata": {},
   "outputs": [
    {
     "name": "stdout",
     "output_type": "stream",
     "text": [
      "12/12 [==============================] - 0s 3ms/step\n",
      "9/9 [==============================] - 0s 4ms/step\n",
      "20/20 [==============================] - 0s 3ms/step\n",
      "24/24 [==============================] - 0s 3ms/step\n",
      "9/9 [==============================] - 0s 4ms/step\n",
      "6/6 [==============================] - 0s 4ms/step\n",
      "33/33 [==============================] - 0s 3ms/step\n",
      "37/37 [==============================] - 0s 3ms/step\n",
      "19/19 [==============================] - 0s 3ms/step\n"
     ]
    }
   ],
   "source": [
    "scores = []\n",
    "for i in range(len(test_sets)):\n",
    "    test_X = test_sets[i].drop(\"Wear\", axis = 1)\n",
    "    test_Y = test_sets[i][\"Wear\"]\n",
    "    scaler1 = StandardScaler()\n",
    "    test_X = scaler1.fit_transform(test_X)\n",
    "    test_X = pd.DataFrame(test_X)\n",
    "    test_X.drop(list(zero_cols), axis = 1, inplace = True)\n",
    "    testing_pred = model1.predict(test_X)\n",
    "    score = metrics.r2_score(test_Y, testing_pred)\n",
    "    scores.append([i, score])"
   ]
  },
  {
   "cell_type": "code",
   "execution_count": 136,
   "id": "12984744",
   "metadata": {},
   "outputs": [
    {
     "data": {
      "text/plain": [
       "[[0, -4.318208347004511],\n",
       " [1, -1.3878407910333004],\n",
       " [2, 0.4260352331529479],\n",
       " [3, 0.3465355481274275],\n",
       " [4, -2.1577358808352574],\n",
       " [5, 0.18106311216463822],\n",
       " [6, 0.9010118340249529],\n",
       " [7, 0.9149353218413769],\n",
       " [8, -0.6896632938024148]]"
      ]
     },
     "execution_count": 136,
     "metadata": {},
     "output_type": "execute_result"
    }
   ],
   "source": [
    "scores"
   ]
  },
  {
   "cell_type": "code",
   "execution_count": 119,
   "id": "d563ba44",
   "metadata": {},
   "outputs": [
    {
     "name": "stderr",
     "output_type": "stream",
     "text": [
      "WARNING:absl:Found untraced functions such as _update_step_xla while saving (showing 1 of 1). These functions will not be directly callable after loading.\n"
     ]
    },
    {
     "name": "stdout",
     "output_type": "stream",
     "text": [
      "INFO:tensorflow:Assets written to: C:/users/HP/Desktop/Ai_miniProj/model1\\assets\n"
     ]
    },
    {
     "name": "stderr",
     "output_type": "stream",
     "text": [
      "INFO:tensorflow:Assets written to: C:/users/HP/Desktop/Ai_miniProj/model1\\assets\n"
     ]
    }
   ],
   "source": [
    "model1.save(\"C:/users/HP/Desktop/Ai_miniProj/model1\")"
   ]
  },
  {
   "cell_type": "code",
   "execution_count": 120,
   "id": "54cdcb07",
   "metadata": {},
   "outputs": [
    {
     "name": "stdout",
     "output_type": "stream",
     "text": [
      "Epoch 1/250\n"
     ]
    },
    {
     "ename": "InvalidArgumentError",
     "evalue": "Graph execution error:\n\nDetected at node 'sequential_10/dense_42/Relu' defined at (most recent call last):\n    File \"C:\\Users\\HP\\anaconda3\\lib\\runpy.py\", line 194, in _run_module_as_main\n      return _run_code(code, main_globals, None,\n    File \"C:\\Users\\HP\\anaconda3\\lib\\runpy.py\", line 87, in _run_code\n      exec(code, run_globals)\n    File \"C:\\Users\\HP\\anaconda3\\lib\\site-packages\\ipykernel_launcher.py\", line 16, in <module>\n      app.launch_new_instance()\n    File \"C:\\Users\\HP\\anaconda3\\lib\\site-packages\\traitlets\\config\\application.py\", line 845, in launch_instance\n      app.start()\n    File \"C:\\Users\\HP\\anaconda3\\lib\\site-packages\\ipykernel\\kernelapp.py\", line 612, in start\n      self.io_loop.start()\n    File \"C:\\Users\\HP\\anaconda3\\lib\\site-packages\\tornado\\platform\\asyncio.py\", line 199, in start\n      self.asyncio_loop.run_forever()\n    File \"C:\\Users\\HP\\anaconda3\\lib\\asyncio\\base_events.py\", line 570, in run_forever\n      self._run_once()\n    File \"C:\\Users\\HP\\anaconda3\\lib\\asyncio\\base_events.py\", line 1859, in _run_once\n      handle._run()\n    File \"C:\\Users\\HP\\anaconda3\\lib\\asyncio\\events.py\", line 81, in _run\n      self._context.run(self._callback, *self._args)\n    File \"C:\\Users\\HP\\anaconda3\\lib\\site-packages\\tornado\\ioloop.py\", line 688, in <lambda>\n      lambda f: self._run_callback(functools.partial(callback, future))\n    File \"C:\\Users\\HP\\anaconda3\\lib\\site-packages\\tornado\\ioloop.py\", line 741, in _run_callback\n      ret = callback()\n    File \"C:\\Users\\HP\\anaconda3\\lib\\site-packages\\tornado\\gen.py\", line 814, in inner\n      self.ctx_run(self.run)\n    File \"C:\\Users\\HP\\anaconda3\\lib\\site-packages\\tornado\\gen.py\", line 775, in run\n      yielded = self.gen.send(value)\n    File \"C:\\Users\\HP\\anaconda3\\lib\\site-packages\\ipykernel\\kernelbase.py\", line 381, in dispatch_queue\n      yield self.process_one()\n    File \"C:\\Users\\HP\\anaconda3\\lib\\site-packages\\tornado\\gen.py\", line 250, in wrapper\n      runner = Runner(ctx_run, result, future, yielded)\n    File \"C:\\Users\\HP\\anaconda3\\lib\\site-packages\\tornado\\gen.py\", line 741, in __init__\n      self.ctx_run(self.run)\n    File \"C:\\Users\\HP\\anaconda3\\lib\\site-packages\\tornado\\gen.py\", line 775, in run\n      yielded = self.gen.send(value)\n    File \"C:\\Users\\HP\\anaconda3\\lib\\site-packages\\ipykernel\\kernelbase.py\", line 365, in process_one\n      yield gen.maybe_future(dispatch(*args))\n    File \"C:\\Users\\HP\\anaconda3\\lib\\site-packages\\tornado\\gen.py\", line 234, in wrapper\n      yielded = ctx_run(next, result)\n    File \"C:\\Users\\HP\\anaconda3\\lib\\site-packages\\ipykernel\\kernelbase.py\", line 268, in dispatch_shell\n      yield gen.maybe_future(handler(stream, idents, msg))\n    File \"C:\\Users\\HP\\anaconda3\\lib\\site-packages\\tornado\\gen.py\", line 234, in wrapper\n      yielded = ctx_run(next, result)\n    File \"C:\\Users\\HP\\anaconda3\\lib\\site-packages\\ipykernel\\kernelbase.py\", line 543, in execute_request\n      self.do_execute(\n    File \"C:\\Users\\HP\\anaconda3\\lib\\site-packages\\tornado\\gen.py\", line 234, in wrapper\n      yielded = ctx_run(next, result)\n    File \"C:\\Users\\HP\\anaconda3\\lib\\site-packages\\ipykernel\\ipkernel.py\", line 306, in do_execute\n      res = shell.run_cell(code, store_history=store_history, silent=silent)\n    File \"C:\\Users\\HP\\anaconda3\\lib\\site-packages\\ipykernel\\zmqshell.py\", line 536, in run_cell\n      return super(ZMQInteractiveShell, self).run_cell(*args, **kwargs)\n    File \"C:\\Users\\HP\\anaconda3\\lib\\site-packages\\IPython\\core\\interactiveshell.py\", line 2894, in run_cell\n      result = self._run_cell(\n    File \"C:\\Users\\HP\\anaconda3\\lib\\site-packages\\IPython\\core\\interactiveshell.py\", line 2940, in _run_cell\n      return runner(coro)\n    File \"C:\\Users\\HP\\anaconda3\\lib\\site-packages\\IPython\\core\\async_helpers.py\", line 68, in _pseudo_sync_runner\n      coro.send(None)\n    File \"C:\\Users\\HP\\anaconda3\\lib\\site-packages\\IPython\\core\\interactiveshell.py\", line 3165, in run_cell_async\n      has_raised = await self.run_ast_nodes(code_ast.body, cell_name,\n    File \"C:\\Users\\HP\\anaconda3\\lib\\site-packages\\IPython\\core\\interactiveshell.py\", line 3357, in run_ast_nodes\n      if (await self.run_code(code, result,  async_=asy)):\n    File \"C:\\Users\\HP\\anaconda3\\lib\\site-packages\\IPython\\core\\interactiveshell.py\", line 3437, in run_code\n      exec(code_obj, self.user_global_ns, self.user_ns)\n    File \"<ipython-input-120-f26880be6d78>\", line 12, in <module>\n      model2.fit( X_train.values, y_train, epochs = 250, batch_size=12, validation_split=0.2, callbacks = earlystopping)\n    File \"C:\\Users\\HP\\anaconda3\\lib\\site-packages\\keras\\utils\\traceback_utils.py\", line 65, in error_handler\n      return fn(*args, **kwargs)\n    File \"C:\\Users\\HP\\anaconda3\\lib\\site-packages\\keras\\engine\\training.py\", line 1650, in fit\n      tmp_logs = self.train_function(iterator)\n    File \"C:\\Users\\HP\\anaconda3\\lib\\site-packages\\keras\\engine\\training.py\", line 1249, in train_function\n      return step_function(self, iterator)\n    File \"C:\\Users\\HP\\anaconda3\\lib\\site-packages\\keras\\engine\\training.py\", line 1233, in step_function\n      outputs = model.distribute_strategy.run(run_step, args=(data,))\n    File \"C:\\Users\\HP\\anaconda3\\lib\\site-packages\\keras\\engine\\training.py\", line 1222, in run_step\n      outputs = model.train_step(data)\n    File \"C:\\Users\\HP\\anaconda3\\lib\\site-packages\\keras\\engine\\training.py\", line 1023, in train_step\n      y_pred = self(x, training=True)\n    File \"C:\\Users\\HP\\anaconda3\\lib\\site-packages\\keras\\utils\\traceback_utils.py\", line 65, in error_handler\n      return fn(*args, **kwargs)\n    File \"C:\\Users\\HP\\anaconda3\\lib\\site-packages\\keras\\engine\\training.py\", line 561, in __call__\n      return super().__call__(*args, **kwargs)\n    File \"C:\\Users\\HP\\anaconda3\\lib\\site-packages\\keras\\utils\\traceback_utils.py\", line 65, in error_handler\n      return fn(*args, **kwargs)\n    File \"C:\\Users\\HP\\anaconda3\\lib\\site-packages\\keras\\engine\\base_layer.py\", line 1132, in __call__\n      outputs = call_fn(inputs, *args, **kwargs)\n    File \"C:\\Users\\HP\\anaconda3\\lib\\site-packages\\keras\\utils\\traceback_utils.py\", line 96, in error_handler\n      return fn(*args, **kwargs)\n    File \"C:\\Users\\HP\\anaconda3\\lib\\site-packages\\keras\\engine\\sequential.py\", line 413, in call\n      return super().call(inputs, training=training, mask=mask)\n    File \"C:\\Users\\HP\\anaconda3\\lib\\site-packages\\keras\\engine\\functional.py\", line 511, in call\n      return self._run_internal_graph(inputs, training=training, mask=mask)\n    File \"C:\\Users\\HP\\anaconda3\\lib\\site-packages\\keras\\engine\\functional.py\", line 668, in _run_internal_graph\n      outputs = node.layer(*args, **kwargs)\n    File \"C:\\Users\\HP\\anaconda3\\lib\\site-packages\\keras\\utils\\traceback_utils.py\", line 65, in error_handler\n      return fn(*args, **kwargs)\n    File \"C:\\Users\\HP\\anaconda3\\lib\\site-packages\\keras\\engine\\base_layer.py\", line 1132, in __call__\n      outputs = call_fn(inputs, *args, **kwargs)\n    File \"C:\\Users\\HP\\anaconda3\\lib\\site-packages\\keras\\utils\\traceback_utils.py\", line 96, in error_handler\n      return fn(*args, **kwargs)\n    File \"C:\\Users\\HP\\anaconda3\\lib\\site-packages\\keras\\layers\\core\\dense.py\", line 255, in call\n      outputs = self.activation(outputs)\n    File \"C:\\Users\\HP\\anaconda3\\lib\\site-packages\\keras\\activations.py\", line 317, in relu\n      return backend.relu(\n    File \"C:\\Users\\HP\\anaconda3\\lib\\site-packages\\keras\\backend.py\", line 5369, in relu\n      x = tf.nn.relu(x)\nNode: 'sequential_10/dense_42/Relu'\nMatrix size-incompatible: In[0]: [12,249], In[1]: [235,256]\n\t [[{{node sequential_10/dense_42/Relu}}]] [Op:__inference_train_function_181151]",
     "output_type": "error",
     "traceback": [
      "\u001b[1;31m---------------------------------------------------------------------------\u001b[0m",
      "\u001b[1;31mInvalidArgumentError\u001b[0m                      Traceback (most recent call last)",
      "\u001b[1;32m<ipython-input-120-f26880be6d78>\u001b[0m in \u001b[0;36m<module>\u001b[1;34m\u001b[0m\n\u001b[0;32m     10\u001b[0m               metrics = ['mse'])\n\u001b[0;32m     11\u001b[0m \u001b[0mmodel2\u001b[0m\u001b[1;33m.\u001b[0m\u001b[0mload_weights\u001b[0m\u001b[1;33m(\u001b[0m\u001b[1;34m\"C:/users/HP/Desktop/Ai_miniProj/model\"\u001b[0m\u001b[1;33m)\u001b[0m\u001b[1;33m\u001b[0m\u001b[1;33m\u001b[0m\u001b[0m\n\u001b[1;32m---> 12\u001b[1;33m \u001b[0mmodel2\u001b[0m\u001b[1;33m.\u001b[0m\u001b[0mfit\u001b[0m\u001b[1;33m(\u001b[0m \u001b[0mX_train\u001b[0m\u001b[1;33m.\u001b[0m\u001b[0mvalues\u001b[0m\u001b[1;33m,\u001b[0m \u001b[0my_train\u001b[0m\u001b[1;33m,\u001b[0m \u001b[0mepochs\u001b[0m \u001b[1;33m=\u001b[0m \u001b[1;36m250\u001b[0m\u001b[1;33m,\u001b[0m \u001b[0mbatch_size\u001b[0m\u001b[1;33m=\u001b[0m\u001b[1;36m12\u001b[0m\u001b[1;33m,\u001b[0m \u001b[0mvalidation_split\u001b[0m\u001b[1;33m=\u001b[0m\u001b[1;36m0.2\u001b[0m\u001b[1;33m,\u001b[0m \u001b[0mcallbacks\u001b[0m \u001b[1;33m=\u001b[0m \u001b[0mearlystopping\u001b[0m\u001b[1;33m)\u001b[0m\u001b[1;33m\u001b[0m\u001b[1;33m\u001b[0m\u001b[0m\n\u001b[0m\u001b[0;32m     13\u001b[0m \u001b[0mtrain_pred\u001b[0m \u001b[1;33m=\u001b[0m \u001b[0mmodel2\u001b[0m\u001b[1;33m.\u001b[0m\u001b[0mpredict\u001b[0m\u001b[1;33m(\u001b[0m\u001b[0mX_train\u001b[0m\u001b[1;33m)\u001b[0m\u001b[1;33m\u001b[0m\u001b[1;33m\u001b[0m\u001b[0m\n\u001b[0;32m     14\u001b[0m \u001b[0mprint\u001b[0m\u001b[1;33m(\u001b[0m\u001b[0mmetrics\u001b[0m\u001b[1;33m.\u001b[0m\u001b[0mr2_score\u001b[0m\u001b[1;33m(\u001b[0m\u001b[0my_train\u001b[0m\u001b[1;33m,\u001b[0m \u001b[0mtrain_pred\u001b[0m\u001b[1;33m)\u001b[0m\u001b[1;33m)\u001b[0m\u001b[1;33m\u001b[0m\u001b[1;33m\u001b[0m\u001b[0m\n",
      "\u001b[1;32m~\\anaconda3\\lib\\site-packages\\keras\\utils\\traceback_utils.py\u001b[0m in \u001b[0;36merror_handler\u001b[1;34m(*args, **kwargs)\u001b[0m\n\u001b[0;32m     68\u001b[0m             \u001b[1;31m# To get the full stack trace, call:\u001b[0m\u001b[1;33m\u001b[0m\u001b[1;33m\u001b[0m\u001b[1;33m\u001b[0m\u001b[0m\n\u001b[0;32m     69\u001b[0m             \u001b[1;31m# `tf.debugging.disable_traceback_filtering()`\u001b[0m\u001b[1;33m\u001b[0m\u001b[1;33m\u001b[0m\u001b[1;33m\u001b[0m\u001b[0m\n\u001b[1;32m---> 70\u001b[1;33m             \u001b[1;32mraise\u001b[0m \u001b[0me\u001b[0m\u001b[1;33m.\u001b[0m\u001b[0mwith_traceback\u001b[0m\u001b[1;33m(\u001b[0m\u001b[0mfiltered_tb\u001b[0m\u001b[1;33m)\u001b[0m \u001b[1;32mfrom\u001b[0m \u001b[1;32mNone\u001b[0m\u001b[1;33m\u001b[0m\u001b[1;33m\u001b[0m\u001b[0m\n\u001b[0m\u001b[0;32m     71\u001b[0m         \u001b[1;32mfinally\u001b[0m\u001b[1;33m:\u001b[0m\u001b[1;33m\u001b[0m\u001b[1;33m\u001b[0m\u001b[0m\n\u001b[0;32m     72\u001b[0m             \u001b[1;32mdel\u001b[0m \u001b[0mfiltered_tb\u001b[0m\u001b[1;33m\u001b[0m\u001b[1;33m\u001b[0m\u001b[0m\n",
      "\u001b[1;32m~\\anaconda3\\lib\\site-packages\\tensorflow\\python\\eager\\execute.py\u001b[0m in \u001b[0;36mquick_execute\u001b[1;34m(op_name, num_outputs, inputs, attrs, ctx, name)\u001b[0m\n\u001b[0;32m     50\u001b[0m   \u001b[1;32mtry\u001b[0m\u001b[1;33m:\u001b[0m\u001b[1;33m\u001b[0m\u001b[1;33m\u001b[0m\u001b[0m\n\u001b[0;32m     51\u001b[0m     \u001b[0mctx\u001b[0m\u001b[1;33m.\u001b[0m\u001b[0mensure_initialized\u001b[0m\u001b[1;33m(\u001b[0m\u001b[1;33m)\u001b[0m\u001b[1;33m\u001b[0m\u001b[1;33m\u001b[0m\u001b[0m\n\u001b[1;32m---> 52\u001b[1;33m     tensors = pywrap_tfe.TFE_Py_Execute(ctx._handle, device_name, op_name,\n\u001b[0m\u001b[0;32m     53\u001b[0m                                         inputs, attrs, num_outputs)\n\u001b[0;32m     54\u001b[0m   \u001b[1;32mexcept\u001b[0m \u001b[0mcore\u001b[0m\u001b[1;33m.\u001b[0m\u001b[0m_NotOkStatusException\u001b[0m \u001b[1;32mas\u001b[0m \u001b[0me\u001b[0m\u001b[1;33m:\u001b[0m\u001b[1;33m\u001b[0m\u001b[1;33m\u001b[0m\u001b[0m\n",
      "\u001b[1;31mInvalidArgumentError\u001b[0m: Graph execution error:\n\nDetected at node 'sequential_10/dense_42/Relu' defined at (most recent call last):\n    File \"C:\\Users\\HP\\anaconda3\\lib\\runpy.py\", line 194, in _run_module_as_main\n      return _run_code(code, main_globals, None,\n    File \"C:\\Users\\HP\\anaconda3\\lib\\runpy.py\", line 87, in _run_code\n      exec(code, run_globals)\n    File \"C:\\Users\\HP\\anaconda3\\lib\\site-packages\\ipykernel_launcher.py\", line 16, in <module>\n      app.launch_new_instance()\n    File \"C:\\Users\\HP\\anaconda3\\lib\\site-packages\\traitlets\\config\\application.py\", line 845, in launch_instance\n      app.start()\n    File \"C:\\Users\\HP\\anaconda3\\lib\\site-packages\\ipykernel\\kernelapp.py\", line 612, in start\n      self.io_loop.start()\n    File \"C:\\Users\\HP\\anaconda3\\lib\\site-packages\\tornado\\platform\\asyncio.py\", line 199, in start\n      self.asyncio_loop.run_forever()\n    File \"C:\\Users\\HP\\anaconda3\\lib\\asyncio\\base_events.py\", line 570, in run_forever\n      self._run_once()\n    File \"C:\\Users\\HP\\anaconda3\\lib\\asyncio\\base_events.py\", line 1859, in _run_once\n      handle._run()\n    File \"C:\\Users\\HP\\anaconda3\\lib\\asyncio\\events.py\", line 81, in _run\n      self._context.run(self._callback, *self._args)\n    File \"C:\\Users\\HP\\anaconda3\\lib\\site-packages\\tornado\\ioloop.py\", line 688, in <lambda>\n      lambda f: self._run_callback(functools.partial(callback, future))\n    File \"C:\\Users\\HP\\anaconda3\\lib\\site-packages\\tornado\\ioloop.py\", line 741, in _run_callback\n      ret = callback()\n    File \"C:\\Users\\HP\\anaconda3\\lib\\site-packages\\tornado\\gen.py\", line 814, in inner\n      self.ctx_run(self.run)\n    File \"C:\\Users\\HP\\anaconda3\\lib\\site-packages\\tornado\\gen.py\", line 775, in run\n      yielded = self.gen.send(value)\n    File \"C:\\Users\\HP\\anaconda3\\lib\\site-packages\\ipykernel\\kernelbase.py\", line 381, in dispatch_queue\n      yield self.process_one()\n    File \"C:\\Users\\HP\\anaconda3\\lib\\site-packages\\tornado\\gen.py\", line 250, in wrapper\n      runner = Runner(ctx_run, result, future, yielded)\n    File \"C:\\Users\\HP\\anaconda3\\lib\\site-packages\\tornado\\gen.py\", line 741, in __init__\n      self.ctx_run(self.run)\n    File \"C:\\Users\\HP\\anaconda3\\lib\\site-packages\\tornado\\gen.py\", line 775, in run\n      yielded = self.gen.send(value)\n    File \"C:\\Users\\HP\\anaconda3\\lib\\site-packages\\ipykernel\\kernelbase.py\", line 365, in process_one\n      yield gen.maybe_future(dispatch(*args))\n    File \"C:\\Users\\HP\\anaconda3\\lib\\site-packages\\tornado\\gen.py\", line 234, in wrapper\n      yielded = ctx_run(next, result)\n    File \"C:\\Users\\HP\\anaconda3\\lib\\site-packages\\ipykernel\\kernelbase.py\", line 268, in dispatch_shell\n      yield gen.maybe_future(handler(stream, idents, msg))\n    File \"C:\\Users\\HP\\anaconda3\\lib\\site-packages\\tornado\\gen.py\", line 234, in wrapper\n      yielded = ctx_run(next, result)\n    File \"C:\\Users\\HP\\anaconda3\\lib\\site-packages\\ipykernel\\kernelbase.py\", line 543, in execute_request\n      self.do_execute(\n    File \"C:\\Users\\HP\\anaconda3\\lib\\site-packages\\tornado\\gen.py\", line 234, in wrapper\n      yielded = ctx_run(next, result)\n    File \"C:\\Users\\HP\\anaconda3\\lib\\site-packages\\ipykernel\\ipkernel.py\", line 306, in do_execute\n      res = shell.run_cell(code, store_history=store_history, silent=silent)\n    File \"C:\\Users\\HP\\anaconda3\\lib\\site-packages\\ipykernel\\zmqshell.py\", line 536, in run_cell\n      return super(ZMQInteractiveShell, self).run_cell(*args, **kwargs)\n    File \"C:\\Users\\HP\\anaconda3\\lib\\site-packages\\IPython\\core\\interactiveshell.py\", line 2894, in run_cell\n      result = self._run_cell(\n    File \"C:\\Users\\HP\\anaconda3\\lib\\site-packages\\IPython\\core\\interactiveshell.py\", line 2940, in _run_cell\n      return runner(coro)\n    File \"C:\\Users\\HP\\anaconda3\\lib\\site-packages\\IPython\\core\\async_helpers.py\", line 68, in _pseudo_sync_runner\n      coro.send(None)\n    File \"C:\\Users\\HP\\anaconda3\\lib\\site-packages\\IPython\\core\\interactiveshell.py\", line 3165, in run_cell_async\n      has_raised = await self.run_ast_nodes(code_ast.body, cell_name,\n    File \"C:\\Users\\HP\\anaconda3\\lib\\site-packages\\IPython\\core\\interactiveshell.py\", line 3357, in run_ast_nodes\n      if (await self.run_code(code, result,  async_=asy)):\n    File \"C:\\Users\\HP\\anaconda3\\lib\\site-packages\\IPython\\core\\interactiveshell.py\", line 3437, in run_code\n      exec(code_obj, self.user_global_ns, self.user_ns)\n    File \"<ipython-input-120-f26880be6d78>\", line 12, in <module>\n      model2.fit( X_train.values, y_train, epochs = 250, batch_size=12, validation_split=0.2, callbacks = earlystopping)\n    File \"C:\\Users\\HP\\anaconda3\\lib\\site-packages\\keras\\utils\\traceback_utils.py\", line 65, in error_handler\n      return fn(*args, **kwargs)\n    File \"C:\\Users\\HP\\anaconda3\\lib\\site-packages\\keras\\engine\\training.py\", line 1650, in fit\n      tmp_logs = self.train_function(iterator)\n    File \"C:\\Users\\HP\\anaconda3\\lib\\site-packages\\keras\\engine\\training.py\", line 1249, in train_function\n      return step_function(self, iterator)\n    File \"C:\\Users\\HP\\anaconda3\\lib\\site-packages\\keras\\engine\\training.py\", line 1233, in step_function\n      outputs = model.distribute_strategy.run(run_step, args=(data,))\n    File \"C:\\Users\\HP\\anaconda3\\lib\\site-packages\\keras\\engine\\training.py\", line 1222, in run_step\n      outputs = model.train_step(data)\n    File \"C:\\Users\\HP\\anaconda3\\lib\\site-packages\\keras\\engine\\training.py\", line 1023, in train_step\n      y_pred = self(x, training=True)\n    File \"C:\\Users\\HP\\anaconda3\\lib\\site-packages\\keras\\utils\\traceback_utils.py\", line 65, in error_handler\n      return fn(*args, **kwargs)\n    File \"C:\\Users\\HP\\anaconda3\\lib\\site-packages\\keras\\engine\\training.py\", line 561, in __call__\n      return super().__call__(*args, **kwargs)\n    File \"C:\\Users\\HP\\anaconda3\\lib\\site-packages\\keras\\utils\\traceback_utils.py\", line 65, in error_handler\n      return fn(*args, **kwargs)\n    File \"C:\\Users\\HP\\anaconda3\\lib\\site-packages\\keras\\engine\\base_layer.py\", line 1132, in __call__\n      outputs = call_fn(inputs, *args, **kwargs)\n    File \"C:\\Users\\HP\\anaconda3\\lib\\site-packages\\keras\\utils\\traceback_utils.py\", line 96, in error_handler\n      return fn(*args, **kwargs)\n    File \"C:\\Users\\HP\\anaconda3\\lib\\site-packages\\keras\\engine\\sequential.py\", line 413, in call\n      return super().call(inputs, training=training, mask=mask)\n    File \"C:\\Users\\HP\\anaconda3\\lib\\site-packages\\keras\\engine\\functional.py\", line 511, in call\n      return self._run_internal_graph(inputs, training=training, mask=mask)\n    File \"C:\\Users\\HP\\anaconda3\\lib\\site-packages\\keras\\engine\\functional.py\", line 668, in _run_internal_graph\n      outputs = node.layer(*args, **kwargs)\n    File \"C:\\Users\\HP\\anaconda3\\lib\\site-packages\\keras\\utils\\traceback_utils.py\", line 65, in error_handler\n      return fn(*args, **kwargs)\n    File \"C:\\Users\\HP\\anaconda3\\lib\\site-packages\\keras\\engine\\base_layer.py\", line 1132, in __call__\n      outputs = call_fn(inputs, *args, **kwargs)\n    File \"C:\\Users\\HP\\anaconda3\\lib\\site-packages\\keras\\utils\\traceback_utils.py\", line 96, in error_handler\n      return fn(*args, **kwargs)\n    File \"C:\\Users\\HP\\anaconda3\\lib\\site-packages\\keras\\layers\\core\\dense.py\", line 255, in call\n      outputs = self.activation(outputs)\n    File \"C:\\Users\\HP\\anaconda3\\lib\\site-packages\\keras\\activations.py\", line 317, in relu\n      return backend.relu(\n    File \"C:\\Users\\HP\\anaconda3\\lib\\site-packages\\keras\\backend.py\", line 5369, in relu\n      x = tf.nn.relu(x)\nNode: 'sequential_10/dense_42/Relu'\nMatrix size-incompatible: In[0]: [12,249], In[1]: [235,256]\n\t [[{{node sequential_10/dense_42/Relu}}]] [Op:__inference_train_function_181151]"
     ]
    }
   ],
   "source": [
    "tf.random.set_seed(42)  #first we set random seed\n",
    "model2 = tf.keras.Sequential([\n",
    "                             layers.Dense(256, activation='relu', kernel_regularizer=regularizers.l2(0.0001)),\n",
    "                             layers.Dense(256, activation='relu', kernel_regularizer=regularizers.l2(0.0001)),\n",
    "                             layers.Dense(256, activation='relu', kernel_regularizer=regularizers.l2(0.0001)),\n",
    "                             layers.Dense(1, activation='linear')\n",
    "])\n",
    "model2.compile(loss = tf.keras.losses.mae, #mae stands for mean absolute error\n",
    "              optimizer = tf.keras.optimizers.Adam(learning_rate = 0.001), \n",
    "              metrics = ['mse'])\n",
    "model2.load_weights(\"C:/users/HP/Desktop/Ai_miniProj/model\")\n",
    "model2.fit( X_train.values, y_train, epochs = 250, batch_size=12, validation_split=0.2, callbacks = earlystopping)\n",
    "train_pred = model2.predict(X_train)\n",
    "print(metrics.r2_score(y_train, train_pred))\n"
   ]
  },
  {
   "cell_type": "code",
   "execution_count": null,
   "id": "4906e78e",
   "metadata": {},
   "outputs": [],
   "source": []
  }
 ],
 "metadata": {
  "kernelspec": {
   "display_name": "Python 3",
   "language": "python",
   "name": "python3"
  },
  "language_info": {
   "codemirror_mode": {
    "name": "ipython",
    "version": 3
   },
   "file_extension": ".py",
   "mimetype": "text/x-python",
   "name": "python",
   "nbconvert_exporter": "python",
   "pygments_lexer": "ipython3",
   "version": "3.8.8"
  }
 },
 "nbformat": 4,
 "nbformat_minor": 5
}
